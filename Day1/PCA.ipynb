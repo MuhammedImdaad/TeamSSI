{
  "nbformat": 4,
  "nbformat_minor": 0,
  "metadata": {
    "colab": {
      "name": "Untitled",
      "provenance": [],
      "collapsed_sections": [],
      "toc_visible": true
    },
    "kernelspec": {
      "name": "python3",
      "display_name": "Python 3"
    }
  },
  "cells": [
    {
      "cell_type": "code",
      "metadata": {
        "id": "xNodqSDs9hfL",
        "colab_type": "code",
        "colab": {}
      },
      "source": [
        "import sklearn\n",
        "import numpy as np \n",
        "import pandas as pd\n",
        "from sklearn import preprocessing\n",
        "import seaborn as sns\n",
        "import matplotlib.pyplot as plt\n",
        "from sklearn.metrics import confusion_matrix\n",
        "from sklearn.decomposition import PCA\n",
        "from sklearn.model_selection import train_test_split\n",
        "\n",
        "import warnings\n",
        "warnings.filterwarnings(\"ignore\")\n"
      ],
      "execution_count": 0,
      "outputs": []
    },
    {
      "cell_type": "markdown",
      "metadata": {
        "id": "CSaos7egXipg",
        "colab_type": "text"
      },
      "source": [
        "**`Loading training data.`**"
      ]
    },
    {
      "cell_type": "code",
      "metadata": {
        "id": "FTP_nzXO9tIa",
        "colab_type": "code",
        "colab": {}
      },
      "source": [
        "df = pd.read_csv(\"/credit_card_default_train.csv\")"
      ],
      "execution_count": 0,
      "outputs": []
    },
    {
      "cell_type": "markdown",
      "metadata": {
        "id": "NXS28Z_iJbHW",
        "colab_type": "text"
      },
      "source": [
        "**General Dataset Analysis**\n"
      ]
    },
    {
      "cell_type": "code",
      "metadata": {
        "id": "yRmjrmDPJhUy",
        "colab_type": "code",
        "colab": {
          "base_uri": "https://localhost:8080/",
          "height": 315
        },
        "outputId": "3d20b0c2-6c4a-4c26-85ca-c798c1561b3e"
      },
      "source": [
        "print(\"No of possitive samples : \", len(df.loc[df[\"NEXT_MONTH_DEFAULT\"]==1]))\n",
        "print(\"No of negative samples : \", len(df.loc[df[\"NEXT_MONTH_DEFAULT\"]==0]))\n",
        "target = df.NEXT_MONTH_DEFAULT.value_counts()\n",
        "sns.barplot(target.index, target)\n",
        "plt.gca().set_ylabel('samples') #gca - gets current axis of current figure"
      ],
      "execution_count": 58,
      "outputs": [
        {
          "output_type": "stream",
          "text": [
            "No of possitive samples :  5330\n",
            "No of negative samples :  18670\n"
          ],
          "name": "stdout"
        },
        {
          "output_type": "execute_result",
          "data": {
            "text/plain": [
              "Text(0, 0.5, 'samples')"
            ]
          },
          "metadata": {
            "tags": []
          },
          "execution_count": 58
        },
        {
          "output_type": "display_data",
          "data": {
            "image/png": "[encoded data removed]",
            "text/plain": [
              "<Figure size 432x288 with 1 Axes>"
            ]
          },
          "metadata": {
            "tags": []
          }
        }
      ]
    },
    {
      "cell_type": "markdown",
      "metadata": {
        "id": "_ZTDsJ-oXyc4",
        "colab_type": "text"
      },
      "source": [
        "**Converting object type data columns into categorical type.**"
      ]
    },
    {
      "cell_type": "code",
      "metadata": {
        "id": "qvCRRfa5X2YY",
        "colab_type": "code",
        "colab": {}
      },
      "source": [
        "df[\"EDUCATION_STATUS\"] = df[\"EDUCATION_STATUS\"].astype('category')\n",
        "df[\"MARITAL_STATUS\"] = df[\"MARITAL_STATUS\"].astype('category')\n",
        "df[\"Gender\"] = df[\"Gender\"].astype('category')\n",
        "df[\"AGE\"] = df[\"AGE\"].astype('category')"
      ],
      "execution_count": 0,
      "outputs": []
    },
    {
      "cell_type": "markdown",
      "metadata": {
        "id": "PX6G4aGWYAUx",
        "colab_type": "text"
      },
      "source": [
        "**Encoding Categorical columns.**"
      ]
    },
    {
      "cell_type": "code",
      "metadata": {
        "id": "0UdP0eixX6T1",
        "colab_type": "code",
        "colab": {}
      },
      "source": [
        "df[\"EDUCATION_STATUS\"] = df[\"EDUCATION_STATUS\"].cat.codes\n",
        "df[\"MARITAL_STATUS\"] = df[\"MARITAL_STATUS\"].cat.codes\n",
        "df[\"Gender\"] = df[\"Gender\"].cat.codes\n",
        "df[\"AGE\"] = df[\"AGE\"].cat.codes"
      ],
      "execution_count": 0,
      "outputs": []
    },
    {
      "cell_type": "code",
      "metadata": {
        "id": "rP9J2PTTYJIs",
        "colab_type": "code",
        "colab": {}
      },
      "source": [
        "def normalize_Balance_Limit_V1( balance ):\n",
        "  #function to format balance limit values\n",
        "    if balance[-1] == \"K\":\n",
        "        balance = eval(balance[:-1])*1000\n",
        "    else:\n",
        "        balance = eval(balance[:-1])*1000000\n",
        "    return balance"
      ],
      "execution_count": 0,
      "outputs": []
    },
    {
      "cell_type": "code",
      "metadata": {
        "id": "O2Fu9hGVaWsI",
        "colab_type": "code",
        "colab": {}
      },
      "source": [
        "df[\"Balance_Limit_V1\"] = df[\"Balance_Limit_V1\"].apply(lambda balance: normalize_Balance_Limit_V1( balance ))"
      ],
      "execution_count": 0,
      "outputs": []
    },
    {
      "cell_type": "code",
      "metadata": {
        "id": "thne08xfYORe",
        "colab_type": "code",
        "colab": {}
      },
      "source": [
        "df.columns #column names"
      ],
      "execution_count": 0,
      "outputs": []
    },
    {
      "cell_type": "markdown",
      "metadata": {
        "id": "HskrB8FcjTGs",
        "colab_type": "text"
      },
      "source": [
        "**Selecting features based on correlation.** \n",
        "\n",
        "Generating the correlation matrix"
      ]
    },
    {
      "cell_type": "code",
      "metadata": {
        "id": "XGZ2R2DNmGj_",
        "colab_type": "code",
        "colab": {}
      },
      "source": [
        "data = df.iloc[:,1:]  #data includes all columns including target except client id"
      ],
      "execution_count": 0,
      "outputs": []
    },
    {
      "cell_type": "code",
      "metadata": {
        "id": "U3fJW_5KpOpc",
        "colab_type": "code",
        "colab": {}
      },
      "source": [
        "def correlation_heatmap(data):\n",
        "    correlations = data.corr()\n",
        "\n",
        "    fig, ax = plt.subplots(figsize=(10,10))\n",
        "    sns.heatmap(correlations, vmax=1.0, center=0, fmt='.2f',\n",
        "                square=True, linewidths=.5, annot=False, cbar_kws={\"shrink\": .70})\n",
        "    plt.show()\n",
        "    return correlations\n"
      ],
      "execution_count": 0,
      "outputs": []
    },
    {
      "cell_type": "code",
      "metadata": {
        "id": "7d4B7Ju_hkhS",
        "colab_type": "code",
        "outputId": "da36c036-59a5-47df-95f6-81f4d68a8783",
        "colab": {
          "base_uri": "https://localhost:8080/",
          "height": 604
        }
      },
      "source": [
        "correlations = correlation_heatmap(data)"
      ],
      "execution_count": 0,
      "outputs": [
        {
          "output_type": "display_data",
          "data": {
            "image/png": "[encoded data removed]",
            "text/plain": [
              "<Figure size 720x720 with 2 Axes>"
            ]
          },
          "metadata": {
            "tags": []
          }
        }
      ]
    },
    {
      "cell_type": "code",
      "metadata": {
        "id": "Hy8NkNhjhw8H",
        "colab_type": "code",
        "colab": {}
      },
      "source": [
        "columns = np.full((correlations.shape[0],), True, dtype=bool)\n",
        "for i in range(correlations.shape[0]):\n",
        "    for j in range(i+1, correlations.shape[0]):\n",
        "        if correlations.iloc[i,j] >= 0.9:\n",
        "            if columns[j]:\n",
        "                columns[j] = False\n",
        "selected_columns = data.columns[columns]\n",
        "data= data[selected_columns]\n"
      ],
      "execution_count": 0,
      "outputs": []
    },
    {
      "cell_type": "code",
      "metadata": {
        "id": "ovma8bm3mP7p",
        "colab_type": "code",
        "colab": {}
      },
      "source": [
        "train_X = data.iloc[:,:-1]\n",
        "train_Y = data.iloc[:,-1]\n",
        "\n",
        "raw_data = train_X"
      ],
      "execution_count": 0,
      "outputs": []
    },
    {
      "cell_type": "code",
      "metadata": {
        "colab_type": "code",
        "id": "6v1QP0tk4qB5",
        "outputId": "ee8d94f3-cf60-4b3c-fafd-f8eb595c385d",
        "colab": {
          "base_uri": "https://localhost:8080/",
          "height": 336
        }
      },
      "source": [
        "train_X.var()"
      ],
      "execution_count": 0,
      "outputs": [
        {
          "output_type": "execute_result",
          "data": {
            "text/plain": [
              "Balance_Limit_V1    1.628287e+11\n",
              "Gender              2.395037e-01\n",
              "EDUCATION_STATUS    8.196033e-01\n",
              "MARITAL_STATUS      2.480227e-01\n",
              "AGE                 8.058667e-01\n",
              "PAY_JULY            1.265393e+00\n",
              "PAY_AUG             1.441358e+00\n",
              "PAY_SEP             1.437301e+00\n",
              "PAY_OCT             1.360973e+00\n",
              "PAY_NOV             1.281095e+00\n",
              "PAY_DEC             1.317553e+00\n",
              "DUE_AMT_JULY        2.925551e+10\n",
              "PAID_AMT_JULY       1.549006e+09\n",
              "PAID_AMT_AUG        3.190655e+09\n",
              "PAID_AMT_SEP        1.653173e+09\n",
              "PAID_AMT_OCT        1.313840e+09\n",
              "PAID_AMT_NOV        1.298941e+09\n",
              "PAID_AMT_DEC        1.792547e+09\n",
              "dtype: float64"
            ]
          },
          "metadata": {
            "tags": []
          },
          "execution_count": 52
        }
      ]
    },
    {
      "cell_type": "code",
      "metadata": {
        "colab_type": "code",
        "id": "9hZZq3LHMJhL",
        "colab": {}
      },
      "source": [
        ""
      ],
      "execution_count": 0,
      "outputs": []
    },
    {
      "cell_type": "markdown",
      "metadata": {
        "id": "3RDnNYL5L1zr",
        "colab_type": "text"
      },
      "source": [
        "**Performing *PCA* on the train set for feature extraction**"
      ]
    },
    {
      "cell_type": "markdown",
      "metadata": {
        "id": "FhokSej8iUBu",
        "colab_type": "text"
      },
      "source": [
        "**Standardising features to have a mean = 0 and SD = 1**\n"
      ]
    },
    {
      "cell_type": "code",
      "metadata": {
        "id": "DznJTTT2Z6cD",
        "colab_type": "code",
        "colab": {}
      },
      "source": [
        "standardScaler = preprocessing.StandardScaler()"
      ],
      "execution_count": 0,
      "outputs": []
    },
    {
      "cell_type": "code",
      "metadata": {
        "id": "M4zCCcSKZeOV",
        "colab_type": "code",
        "colab": {}
      },
      "source": [
        "for feature in train_X.columns:\n",
        "  train_X[feature]= standardScaler.fit_transform(train_X[feature].values.reshape(-1,1))"
      ],
      "execution_count": 0,
      "outputs": []
    },
    {
      "cell_type": "code",
      "metadata": {
        "id": "1-zJP0VhmR8g",
        "colab_type": "code",
        "outputId": "43341814-3785-43e3-84cd-d0c5928af358",
        "colab": {
          "base_uri": "https://localhost:8080/",
          "height": 33
        }
      },
      "source": [
        "train_X.shape"
      ],
      "execution_count": 60,
      "outputs": [
        {
          "output_type": "execute_result",
          "data": {
            "text/plain": [
              "(24000, 18)"
            ]
          },
          "metadata": {
            "tags": []
          },
          "execution_count": 60
        }
      ]
    },
    {
      "cell_type": "markdown",
      "metadata": {
        "id": "QGE3jYIxPojW",
        "colab_type": "text"
      },
      "source": [
        "**Dividing the dataset into train and test sets.**"
      ]
    },
    {
      "cell_type": "code",
      "metadata": {
        "id": "JgAWGi-H3qmQ",
        "colab_type": "code",
        "colab": {}
      },
      "source": [
        "X_train, X_test, y_train, y_test = train_test_split(\n",
        "...     train_X, train_Y, test_size=0.1, random_state=42)"
      ],
      "execution_count": 0,
      "outputs": []
    },
    {
      "cell_type": "markdown",
      "metadata": {
        "id": "y7Q06vcEP4A1",
        "colab_type": "text"
      },
      "source": [
        "**Applying PCA to the train set**"
      ]
    },
    {
      "cell_type": "code",
      "metadata": {
        "id": "YxUMO2QUNpzV",
        "colab_type": "code",
        "colab": {}
      },
      "source": [
        "pca = PCA(.95) #keeping 95% of variance from the original dataset\n",
        "pca.fit(X_train) #only to the train set\n",
        "X_train_pca = pca.transform(X_train)"
      ],
      "execution_count": 0,
      "outputs": []
    },
    {
      "cell_type": "code",
      "metadata": {
        "id": "7DwGkvWdOvv3",
        "colab_type": "code",
        "colab": {
          "base_uri": "https://localhost:8080/",
          "height": 33
        },
        "outputId": "55e14d55-af3f-4f6d-efa3-6b8669a901f8"
      },
      "source": [
        "pca.n_components_"
      ],
      "execution_count": 74,
      "outputs": [
        {
          "output_type": "execute_result",
          "data": {
            "text/plain": [
              "15"
            ]
          },
          "metadata": {
            "tags": []
          },
          "execution_count": 74
        }
      ]
    },
    {
      "cell_type": "code",
      "metadata": {
        "id": "KK269Gm6PUjv",
        "colab_type": "code",
        "colab": {}
      },
      "source": [
        ""
      ],
      "execution_count": 0,
      "outputs": []
    }
  ]
}