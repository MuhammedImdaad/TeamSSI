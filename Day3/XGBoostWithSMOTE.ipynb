{
  "nbformat": 4,
  "nbformat_minor": 0,
  "metadata": {
    "colab": {
      "name": "Untitled",
      "provenance": [],
      "collapsed_sections": [],
      "toc_visible": true
    },
    "kernelspec": {
      "name": "python3",
      "display_name": "Python 3"
    }
  },
  "cells": [
    {
      "cell_type": "code",
      "metadata": {
        "id": "xNodqSDs9hfL",
        "colab_type": "code",
        "colab": {}
      },
      "source": [
        "import sklearn\n",
        "import numpy as np \n",
        "import pandas as pd\n",
        "from sklearn import preprocessing\n",
        "from imblearn.ensemble import BalancedBaggingClassifier \n",
        "import seaborn as sns\n",
        "import matplotlib.pyplot as plt\n",
        "from sklearn.decomposition import PCA\n",
        "from sklearn.model_selection import train_test_split\n",
        "from sklearn.ensemble import RandomForestClassifier,GradientBoostingClassifier,AdaBoostClassifier\n",
        "from sklearn.svm import SVC\n",
        "from sklearn.metrics import confusion_matrix, f1_score, classification_report\n",
        "from sklearn.tree import DecisionTreeClassifier\n",
        "import xgboost as xgb\n",
        "from sklearn.model_selection import RandomizedSearchCV\n",
        "from sklearn.model_selection import GridSearchCV, StratifiedKFold\n",
        "from imblearn.over_sampling import SMOTE\n",
        "from collections import Counter\n",
        "import warnings\n",
        "warnings.filterwarnings(\"ignore\")\n"
      ],
      "execution_count": 0,
      "outputs": []
    },
    {
      "cell_type": "markdown",
      "metadata": {
        "id": "CSaos7egXipg",
        "colab_type": "text"
      },
      "source": [
        "**`Loading training data and test data.`**"
      ]
    },
    {
      "cell_type": "code",
      "metadata": {
        "id": "FTP_nzXO9tIa",
        "colab_type": "code",
        "colab": {}
      },
      "source": [
        "df = pd.read_csv(\"/content/credit_card_default_train.csv\")\n",
        "test_data= pd.read_csv(\"/content/credit_card_default_test.csv\")"
      ],
      "execution_count": 0,
      "outputs": []
    },
    {
      "cell_type": "markdown",
      "metadata": {
        "id": "0o52RV9bGv0D",
        "colab_type": "text"
      },
      "source": [
        "Removing Client ID column"
      ]
    },
    {
      "cell_type": "code",
      "metadata": {
        "id": "NeYMW6cfA32G",
        "colab_type": "code",
        "colab": {}
      },
      "source": [
        "df = df.iloc[:,1:]\n",
        "test_data_ = test_data.iloc[:,1:]"
      ],
      "execution_count": 0,
      "outputs": []
    },
    {
      "cell_type": "markdown",
      "metadata": {
        "id": "t1kUK9g7CFi2",
        "colab_type": "text"
      },
      "source": [
        "**Custom Label Encoder**"
      ]
    },
    {
      "cell_type": "code",
      "metadata": {
        "id": "3nizlW8QBXN1",
        "colab_type": "code",
        "colab": {}
      },
      "source": [
        "def encoder(feature, classes):\n",
        "  return classes.index(feature)+1"
      ],
      "execution_count": 0,
      "outputs": []
    },
    {
      "cell_type": "code",
      "metadata": {
        "id": "NYvsQTJ1Fqta",
        "colab_type": "code",
        "colab": {}
      },
      "source": [
        "#training data\n",
        "EDUCATION_STATUS_Classes = list(df['EDUCATION_STATUS'].value_counts().index)\n",
        "MARITAL_STATUS_Classes = list(df['MARITAL_STATUS'].value_counts().index)\n",
        "Gender_Classes = list(df['Gender'].value_counts().index)\n",
        "AGE_Classes = list(df['AGE'].value_counts().index)\n",
        "\n",
        "#test_data\n",
        "EDUCATION_STATUS_Classes = list(test_data_['EDUCATION_STATUS'].value_counts().index)\n",
        "MARITAL_STATUS_Classes = list(test_data_['MARITAL_STATUS'].value_counts().index)\n",
        "Gender_Classes = list(test_data_['Gender'].value_counts().index)\n",
        "AGE_Classes = list(test_data_['AGE'].value_counts().index)"
      ],
      "execution_count": 0,
      "outputs": []
    },
    {
      "cell_type": "code",
      "metadata": {
        "id": "qIOqpD_jBXSY",
        "colab_type": "code",
        "colab": {}
      },
      "source": [
        "#training data\n",
        "df[\"EDUCATION_STATUS\"] = df[\"EDUCATION_STATUS\"].apply(lambda feature: encoder( feature, EDUCATION_STATUS_Classes))\n",
        "df[\"MARITAL_STATUS\"] = df[\"MARITAL_STATUS\"].apply(lambda feature: encoder( feature, MARITAL_STATUS_Classes))\n",
        "df[\"Gender\"] = df[\"Gender\"].apply(lambda feature: encoder( feature, Gender_Classes))\n",
        "df[\"AGE\"] = df[\"AGE\"].apply(lambda feature: encoder( feature, AGE_Classes))\n",
        "#test data\n",
        "test_data_[\"EDUCATION_STATUS\"] = test_data_[\"EDUCATION_STATUS\"].apply(lambda feature: encoder( feature, EDUCATION_STATUS_Classes))\n",
        "test_data_[\"MARITAL_STATUS\"] = test_data_[\"MARITAL_STATUS\"].apply(lambda feature: encoder( feature, MARITAL_STATUS_Classes))\n",
        "test_data_[\"Gender\"] = test_data_[\"Gender\"].apply(lambda feature: encoder( feature, Gender_Classes))\n",
        "test_data_[\"AGE\"] = test_data_[\"AGE\"].apply(lambda feature: encoder( feature, AGE_Classes))"
      ],
      "execution_count": 0,
      "outputs": []
    },
    {
      "cell_type": "code",
      "metadata": {
        "id": "rP9J2PTTYJIs",
        "colab_type": "code",
        "colab": {}
      },
      "source": [
        "def normalize_Balance_Limit_V1( balance ):\n",
        "  #function to format balance limit values\n",
        "    if balance[-1] == \"K\":\n",
        "        balance = eval(balance[:-1])*1000\n",
        "    else:\n",
        "        balance = eval(balance[:-1])*1000000\n",
        "    return balance"
      ],
      "execution_count": 0,
      "outputs": []
    },
    {
      "cell_type": "code",
      "metadata": {
        "id": "O2Fu9hGVaWsI",
        "colab_type": "code",
        "colab": {}
      },
      "source": [
        "df[\"Balance_Limit_V1\"] = df[\"Balance_Limit_V1\"].apply(lambda balance: normalize_Balance_Limit_V1( balance ))\n",
        "test_data_[\"Balance_Limit_V1\"] = test_data_[\"Balance_Limit_V1\"].apply(lambda balance: normalize_Balance_Limit_V1( balance ))"
      ],
      "execution_count": 0,
      "outputs": []
    },
    {
      "cell_type": "markdown",
      "metadata": {
        "id": "NXS28Z_iJbHW",
        "colab_type": "text"
      },
      "source": [
        "**General Dataset Analysis**\n"
      ]
    },
    {
      "cell_type": "markdown",
      "metadata": {
        "id": "J53xxLvjzNcp",
        "colab_type": "text"
      },
      "source": [
        "**Class Distribution**"
      ]
    },
    {
      "cell_type": "code",
      "metadata": {
        "id": "yRmjrmDPJhUy",
        "colab_type": "code",
        "outputId": "29c85655-0233-401e-c49a-c43a5a346925",
        "colab": {
          "base_uri": "https://localhost:8080/",
          "height": 316
        }
      },
      "source": [
        "print(\"No of possitive samples : \", len(df.loc[df[\"NEXT_MONTH_DEFAULT\"]==1]))\n",
        "print(\"No of negative samples : \", len(df.loc[df[\"NEXT_MONTH_DEFAULT\"]==0]))\n",
        "target = df.NEXT_MONTH_DEFAULT.value_counts()\n",
        "sns.barplot(target.index, target)\n",
        "plt.gca().set_ylabel('samples') #gca - gets current axis of current figure"
      ],
      "execution_count": 0,
      "outputs": [
        {
          "output_type": "stream",
          "text": [
            "No of possitive samples :  5330\n",
            "No of negative samples :  18670\n"
          ],
          "name": "stdout"
        },
        {
          "output_type": "execute_result",
          "data": {
            "text/plain": [
              "Text(0, 0.5, 'samples')"
            ]
          },
          "metadata": {
            "tags": []
          },
          "execution_count": 11
        },
        {
          "output_type": "display_data",
          "data": {
            "image/png": "[encoded data removed]",
            "text/plain": [
              "<Figure size 432x288 with 1 Axes>"
            ]
          },
          "metadata": {
            "tags": []
          }
        }
      ]
    },
    {
      "cell_type": "markdown",
      "metadata": {
        "id": "xetRjkJxzTIh",
        "colab_type": "text"
      },
      "source": [
        "As we can see, there is a huge imbalanced between Class ditribution."
      ]
    },
    {
      "cell_type": "markdown",
      "metadata": {
        "id": "HskrB8FcjTGs",
        "colab_type": "text"
      },
      "source": [
        "**Analysing Feature Co-relations** \n",
        "\n",
        "Generating the correlation matrix"
      ]
    },
    {
      "cell_type": "code",
      "metadata": {
        "id": "U3fJW_5KpOpc",
        "colab_type": "code",
        "colab": {}
      },
      "source": [
        "def correlation_heatmap(data):\n",
        "    correlations = data.corr()\n",
        "\n",
        "    fig, ax = plt.subplots(figsize=(10,10))\n",
        "    sns.heatmap(correlations, vmax=1.0, center=0, fmt='.2f',\n",
        "                square=True, linewidths=.5, annot=False, cbar_kws={\"shrink\": 1.0})\n",
        "    plt.show()\n",
        "    return correlations\n"
      ],
      "execution_count": 0,
      "outputs": []
    },
    {
      "cell_type": "code",
      "metadata": {
        "id": "0NmKvu4kRJUg",
        "colab_type": "code",
        "outputId": "f1e6358c-d5fb-4b3b-f5de-82ec0e7fb7cc",
        "colab": {
          "base_uri": "https://localhost:8080/",
          "height": 656
        }
      },
      "source": [
        "correlations = correlation_heatmap(df)"
      ],
      "execution_count": 0,
      "outputs": [
        {
          "output_type": "display_data",
          "data": {
            "image/png": "[encoded data removed]",
            "text/plain": [
              "<Figure size 720x720 with 2 Axes>"
            ]
          },
          "metadata": {
            "tags": []
          }
        }
      ]
    },
    {
      "cell_type": "markdown",
      "metadata": {
        "id": "MKNoth3tHLqR",
        "colab_type": "text"
      },
      "source": [
        "***From above co-relation matrix, we can observe that,***\n",
        "\n",
        "1.   DUE_AMT_XXX columns are highly co-related with each other. \n",
        "2.   PAY_XXX columns are highly co-related with each other.\n",
        "3.   PAID_AMT_XXX and Balance limit column has a  negative co-relation with          target column.\n",
        "4.   PAY_XXX column has a positive co-relation with the target column.  \n",
        "\n"
      ]
    },
    {
      "cell_type": "markdown",
      "metadata": {
        "id": "9l_7QE5iHCPU",
        "colab_type": "text"
      },
      "source": [
        "Selecting DUE_AMT_XX , PAID_AMT_XX columns to apply PCA"
      ]
    },
    {
      "cell_type": "markdown",
      "metadata": {
        "id": "Xssm67TAKP8f",
        "colab_type": "text"
      },
      "source": [
        "Doing PCA seperately for Categorical and Non categorical data."
      ]
    },
    {
      "cell_type": "code",
      "metadata": {
        "id": "840EkM-qxFWR",
        "colab_type": "code",
        "colab": {}
      },
      "source": [
        "DUE_PAID  = df[['DUE_AMT_JULY', 'DUE_AMT_AUG', 'DUE_AMT_SEP', 'DUE_AMT_OCT',\n",
        "       'DUE_AMT_NOV', 'DUE_AMT_DEC', 'PAID_AMT_JULY', 'PAID_AMT_AUG',\n",
        "       'PAID_AMT_SEP', 'PAID_AMT_OCT', 'PAID_AMT_NOV', 'PAID_AMT_DEC']].copy()\n",
        "DUE_PAID_TEST = test_data_[['DUE_AMT_JULY', 'DUE_AMT_AUG', 'DUE_AMT_SEP', 'DUE_AMT_OCT',\n",
        "       'DUE_AMT_NOV', 'DUE_AMT_DEC', 'PAID_AMT_JULY', 'PAID_AMT_AUG',\n",
        "       'PAID_AMT_SEP', 'PAID_AMT_OCT', 'PAID_AMT_NOV', 'PAID_AMT_DEC']].copy()\n"
      ],
      "execution_count": 0,
      "outputs": []
    },
    {
      "cell_type": "markdown",
      "metadata": {
        "id": "gLQf2LFcHG0K",
        "colab_type": "text"
      },
      "source": [
        "Selecting PAY_X columns to apply PCA"
      ]
    },
    {
      "cell_type": "code",
      "metadata": {
        "id": "ErsLaGfgHEtq",
        "colab_type": "code",
        "colab": {}
      },
      "source": [
        "\n",
        "PAY = df[['PAY_JULY', 'PAY_AUG', 'PAY_SEP', 'PAY_OCT', 'PAY_NOV',\n",
        "       'PAY_DEC']].copy()\n",
        "PAY_TEST = test_data_[['PAY_JULY', 'PAY_AUG', 'PAY_SEP', 'PAY_OCT', 'PAY_NOV',\n",
        "       'PAY_DEC']].copy()\n"
      ],
      "execution_count": 0,
      "outputs": []
    },
    {
      "cell_type": "markdown",
      "metadata": {
        "id": "UV51jG-tH20B",
        "colab_type": "text"
      },
      "source": [
        "Keeping the other columns seperately"
      ]
    },
    {
      "cell_type": "code",
      "metadata": {
        "id": "mCUllxxK3yRG",
        "colab_type": "code",
        "colab": {}
      },
      "source": [
        "BEGIN_DUE_PAID = df[['Balance_Limit_V1', 'Gender', 'EDUCATION_STATUS', 'MARITAL_STATUS',\n",
        "       'AGE', 'PAY_JULY', 'PAY_AUG', 'PAY_SEP', 'PAY_OCT', 'PAY_NOV',\n",
        "       'PAY_DEC']].copy()\n",
        "\n",
        "BEGIN_DUE_PAID_TEST = test_data_[['Balance_Limit_V1', 'Gender', 'EDUCATION_STATUS', 'MARITAL_STATUS',\n",
        "       'AGE', 'PAY_JULY', 'PAY_AUG', 'PAY_SEP', 'PAY_OCT', 'PAY_NOV',\n",
        "       'PAY_DEC']].copy()"
      ],
      "execution_count": 0,
      "outputs": []
    },
    {
      "cell_type": "code",
      "metadata": {
        "id": "EYx38QD0KNhR",
        "colab_type": "code",
        "colab": {}
      },
      "source": [
        "BEGIN_PAY = df[['Balance_Limit_V1', 'Gender', 'EDUCATION_STATUS', 'MARITAL_STATUS','AGE']].copy()\n",
        "\n",
        "BEGIN_PAY_TEST = test_data_[['Balance_Limit_V1', 'Gender', 'EDUCATION_STATUS', 'MARITAL_STATUS', 'AGE']].copy()"
      ],
      "execution_count": 0,
      "outputs": []
    },
    {
      "cell_type": "markdown",
      "metadata": {
        "id": "FhokSej8iUBu",
        "colab_type": "text"
      },
      "source": [
        "**Standardising features to have a mean = 0 and SD = 1**\n"
      ]
    },
    {
      "cell_type": "markdown",
      "metadata": {
        "id": "qFRjUSs0zl-A",
        "colab_type": "text"
      },
      "source": [
        "Before applying PCA, features should be standardised."
      ]
    },
    {
      "cell_type": "code",
      "metadata": {
        "id": "FpUS05INyBhv",
        "colab_type": "code",
        "colab": {}
      },
      "source": [
        "standardScaler = preprocessing.StandardScaler()"
      ],
      "execution_count": 0,
      "outputs": []
    },
    {
      "cell_type": "code",
      "metadata": {
        "id": "ELOiM1qWyLQu",
        "colab_type": "code",
        "colab": {}
      },
      "source": [
        "for feature in DUE_PAID.columns:\n",
        "  DUE_PAID[feature]= standardScaler.fit_transform(DUE_PAID[feature].values.reshape(-1,1))\n",
        "  DUE_PAID_TEST[feature]= standardScaler.fit_transform(DUE_PAID_TEST[feature].values.reshape(-1,1))\n",
        "for feature in PAY.columns:\n",
        "  PAY[feature]= standardScaler.fit_transform(PAY[feature].values.reshape(-1,1))\n",
        "  PAY_TEST[feature]= standardScaler.fit_transform(PAY_TEST[feature].values.reshape(-1,1))"
      ],
      "execution_count": 0,
      "outputs": []
    },
    {
      "cell_type": "markdown",
      "metadata": {
        "id": "IqTp-TgSHozT",
        "colab_type": "text"
      },
      "source": [
        "Applying PCA on both training and test data set ( on selected columns )"
      ]
    },
    {
      "cell_type": "code",
      "metadata": {
        "id": "5heETU0exUxm",
        "colab_type": "code",
        "colab": {}
      },
      "source": [
        "pca1 = PCA(.95) #keeping 95% of variance from the original dataset\n",
        "pca1.fit(DUE_PAID.copy()) #only to the train set\n",
        "DUE_PAID_PCA = pca1.transform(DUE_PAID.copy())\n",
        "DUE_PAID_TEST_PCA = pca1.transform(DUE_PAID_TEST.copy())"
      ],
      "execution_count": 0,
      "outputs": []
    },
    {
      "cell_type": "code",
      "metadata": {
        "id": "8BbtrFBvMdRK",
        "colab_type": "code",
        "colab": {}
      },
      "source": [
        "pca2 = PCA(.95) #keeping 95% of variance from the original dataset\n",
        "pca2.fit(PAY.copy()) #only to the train set\n",
        "PAY_PCA = pca2.transform(PAY.copy())\n",
        "PAY_TEST_PCA = pca2.transform(PAY_TEST.copy())"
      ],
      "execution_count": 0,
      "outputs": []
    },
    {
      "cell_type": "code",
      "metadata": {
        "id": "9SLsLmtq2zvT",
        "colab_type": "code",
        "colab": {}
      },
      "source": [
        "DATA_PCA1 = pd.concat([BEGIN_DUE_PAID, pd.DataFrame( data = DUE_PAID_PCA, columns=[\"pca1\",\"pca2\",\"pca3\",\"pca4\",\"pca5\",\"pca6\",\"pca7\"])], axis=1)\n",
        "TEST_PCA1 = pd.concat([BEGIN_DUE_PAID_TEST, pd.DataFrame( data = DUE_PAID_TEST_PCA, columns=[\"pca1\",\"pca2\",\"pca3\",\"pca4\",\"pca5\",\"pca6\",\"pca7\"])], axis=1)"
      ],
      "execution_count": 0,
      "outputs": []
    },
    {
      "cell_type": "code",
      "metadata": {
        "id": "3Vww2eh8x3LD",
        "colab_type": "code",
        "colab": {
          "base_uri": "https://localhost:8080/",
          "height": 359
        },
        "outputId": "830d2b7e-3fa7-4a1b-a1ed-04b36d6a1ad3"
      },
      "source": [
        "TEST_PCA1.head(10)"
      ],
      "execution_count": 161,
      "outputs": [
        {
          "output_type": "execute_result",
          "data": {
            "text/html": [
              "<div>\n",
              "<style scoped>\n",
              "    .dataframe tbody tr th:only-of-type {\n",
              "        vertical-align: middle;\n",
              "    }\n",
              "\n",
              "    .dataframe tbody tr th {\n",
              "        vertical-align: top;\n",
              "    }\n",
              "\n",
              "    .dataframe thead th {\n",
              "        text-align: right;\n",
              "    }\n",
              "</style>\n",
              "<table border=\"1\" class=\"dataframe\">\n",
              "  <thead>\n",
              "    <tr style=\"text-align: right;\">\n",
              "      <th></th>\n",
              "      <th>Balance_Limit_V1</th>\n",
              "      <th>Gender</th>\n",
              "      <th>EDUCATION_STATUS</th>\n",
              "      <th>MARITAL_STATUS</th>\n",
              "      <th>AGE</th>\n",
              "      <th>PAY_JULY</th>\n",
              "      <th>PAY_AUG</th>\n",
              "      <th>PAY_SEP</th>\n",
              "      <th>PAY_OCT</th>\n",
              "      <th>PAY_NOV</th>\n",
              "      <th>PAY_DEC</th>\n",
              "      <th>pca1</th>\n",
              "      <th>pca2</th>\n",
              "      <th>pca3</th>\n",
              "      <th>pca4</th>\n",
              "      <th>pca5</th>\n",
              "      <th>pca6</th>\n",
              "      <th>pca7</th>\n",
              "    </tr>\n",
              "  </thead>\n",
              "  <tbody>\n",
              "    <tr>\n",
              "      <th>0</th>\n",
              "      <td>500000.0</td>\n",
              "      <td>1</td>\n",
              "      <td>1</td>\n",
              "      <td>2</td>\n",
              "      <td>1</td>\n",
              "      <td>0</td>\n",
              "      <td>0</td>\n",
              "      <td>0</td>\n",
              "      <td>0</td>\n",
              "      <td>0</td>\n",
              "      <td>0</td>\n",
              "      <td>3.300430</td>\n",
              "      <td>1.839985</td>\n",
              "      <td>1.539784</td>\n",
              "      <td>-1.382432</td>\n",
              "      <td>-1.209324</td>\n",
              "      <td>3.365593</td>\n",
              "      <td>0.004730</td>\n",
              "    </tr>\n",
              "    <tr>\n",
              "      <th>1</th>\n",
              "      <td>200000.0</td>\n",
              "      <td>2</td>\n",
              "      <td>1</td>\n",
              "      <td>2</td>\n",
              "      <td>1</td>\n",
              "      <td>0</td>\n",
              "      <td>0</td>\n",
              "      <td>0</td>\n",
              "      <td>0</td>\n",
              "      <td>0</td>\n",
              "      <td>0</td>\n",
              "      <td>-0.257688</td>\n",
              "      <td>-0.429331</td>\n",
              "      <td>0.048548</td>\n",
              "      <td>-0.070189</td>\n",
              "      <td>-0.037592</td>\n",
              "      <td>0.037578</td>\n",
              "      <td>0.036935</td>\n",
              "    </tr>\n",
              "    <tr>\n",
              "      <th>2</th>\n",
              "      <td>400000.0</td>\n",
              "      <td>1</td>\n",
              "      <td>1</td>\n",
              "      <td>1</td>\n",
              "      <td>2</td>\n",
              "      <td>-1</td>\n",
              "      <td>-1</td>\n",
              "      <td>2</td>\n",
              "      <td>0</td>\n",
              "      <td>0</td>\n",
              "      <td>-1</td>\n",
              "      <td>-1.548812</td>\n",
              "      <td>0.185950</td>\n",
              "      <td>-0.431524</td>\n",
              "      <td>0.780763</td>\n",
              "      <td>-0.371296</td>\n",
              "      <td>0.122458</td>\n",
              "      <td>0.027763</td>\n",
              "    </tr>\n",
              "    <tr>\n",
              "      <th>3</th>\n",
              "      <td>1500000.0</td>\n",
              "      <td>1</td>\n",
              "      <td>2</td>\n",
              "      <td>2</td>\n",
              "      <td>1</td>\n",
              "      <td>1</td>\n",
              "      <td>-1</td>\n",
              "      <td>-1</td>\n",
              "      <td>-2</td>\n",
              "      <td>-2</td>\n",
              "      <td>-2</td>\n",
              "      <td>-1.751891</td>\n",
              "      <td>-0.136837</td>\n",
              "      <td>0.138061</td>\n",
              "      <td>0.037236</td>\n",
              "      <td>0.121950</td>\n",
              "      <td>-0.042778</td>\n",
              "      <td>-0.027930</td>\n",
              "    </tr>\n",
              "    <tr>\n",
              "      <th>4</th>\n",
              "      <td>100000.0</td>\n",
              "      <td>2</td>\n",
              "      <td>3</td>\n",
              "      <td>1</td>\n",
              "      <td>2</td>\n",
              "      <td>0</td>\n",
              "      <td>0</td>\n",
              "      <td>-2</td>\n",
              "      <td>-2</td>\n",
              "      <td>-2</td>\n",
              "      <td>-2</td>\n",
              "      <td>-1.627346</td>\n",
              "      <td>-0.363417</td>\n",
              "      <td>0.047380</td>\n",
              "      <td>-0.000381</td>\n",
              "      <td>-0.034428</td>\n",
              "      <td>0.049697</td>\n",
              "      <td>0.005039</td>\n",
              "    </tr>\n",
              "    <tr>\n",
              "      <th>5</th>\n",
              "      <td>100000.0</td>\n",
              "      <td>2</td>\n",
              "      <td>1</td>\n",
              "      <td>1</td>\n",
              "      <td>2</td>\n",
              "      <td>0</td>\n",
              "      <td>0</td>\n",
              "      <td>0</td>\n",
              "      <td>0</td>\n",
              "      <td>0</td>\n",
              "      <td>0</td>\n",
              "      <td>-1.284953</td>\n",
              "      <td>-0.241930</td>\n",
              "      <td>0.065205</td>\n",
              "      <td>0.002893</td>\n",
              "      <td>0.020839</td>\n",
              "      <td>0.017034</td>\n",
              "      <td>-0.035301</td>\n",
              "    </tr>\n",
              "    <tr>\n",
              "      <th>6</th>\n",
              "      <td>200000.0</td>\n",
              "      <td>2</td>\n",
              "      <td>3</td>\n",
              "      <td>1</td>\n",
              "      <td>2</td>\n",
              "      <td>2</td>\n",
              "      <td>2</td>\n",
              "      <td>2</td>\n",
              "      <td>2</td>\n",
              "      <td>2</td>\n",
              "      <td>2</td>\n",
              "      <td>0.176481</td>\n",
              "      <td>-0.497556</td>\n",
              "      <td>0.121053</td>\n",
              "      <td>0.101240</td>\n",
              "      <td>-0.081434</td>\n",
              "      <td>-0.097319</td>\n",
              "      <td>0.183058</td>\n",
              "    </tr>\n",
              "    <tr>\n",
              "      <th>7</th>\n",
              "      <td>500000.0</td>\n",
              "      <td>1</td>\n",
              "      <td>1</td>\n",
              "      <td>2</td>\n",
              "      <td>1</td>\n",
              "      <td>0</td>\n",
              "      <td>0</td>\n",
              "      <td>0</td>\n",
              "      <td>-2</td>\n",
              "      <td>-2</td>\n",
              "      <td>-2</td>\n",
              "      <td>-1.749166</td>\n",
              "      <td>-0.270952</td>\n",
              "      <td>0.084869</td>\n",
              "      <td>0.004860</td>\n",
              "      <td>0.001787</td>\n",
              "      <td>0.026112</td>\n",
              "      <td>-0.049388</td>\n",
              "    </tr>\n",
              "    <tr>\n",
              "      <th>8</th>\n",
              "      <td>500000.0</td>\n",
              "      <td>1</td>\n",
              "      <td>1</td>\n",
              "      <td>1</td>\n",
              "      <td>2</td>\n",
              "      <td>-1</td>\n",
              "      <td>-1</td>\n",
              "      <td>-1</td>\n",
              "      <td>-1</td>\n",
              "      <td>-1</td>\n",
              "      <td>-1</td>\n",
              "      <td>-1.737734</td>\n",
              "      <td>-0.146098</td>\n",
              "      <td>0.054702</td>\n",
              "      <td>-0.001280</td>\n",
              "      <td>0.021346</td>\n",
              "      <td>0.051784</td>\n",
              "      <td>0.086268</td>\n",
              "    </tr>\n",
              "    <tr>\n",
              "      <th>9</th>\n",
              "      <td>400000.0</td>\n",
              "      <td>2</td>\n",
              "      <td>1</td>\n",
              "      <td>2</td>\n",
              "      <td>3</td>\n",
              "      <td>0</td>\n",
              "      <td>0</td>\n",
              "      <td>0</td>\n",
              "      <td>0</td>\n",
              "      <td>0</td>\n",
              "      <td>0</td>\n",
              "      <td>0.645246</td>\n",
              "      <td>-0.710405</td>\n",
              "      <td>0.043975</td>\n",
              "      <td>0.007891</td>\n",
              "      <td>-0.032583</td>\n",
              "      <td>0.021387</td>\n",
              "      <td>-0.029208</td>\n",
              "    </tr>\n",
              "  </tbody>\n",
              "</table>\n",
              "</div>"
            ],
            "text/plain": [
              "   Balance_Limit_V1  Gender  EDUCATION_STATUS  ...      pca5      pca6      pca7\n",
              "0          500000.0       1                 1  ... -1.209324  3.365593  0.004730\n",
              "1          200000.0       2                 1  ... -0.037592  0.037578  0.036935\n",
              "2          400000.0       1                 1  ... -0.371296  0.122458  0.027763\n",
              "3         1500000.0       1                 2  ...  0.121950 -0.042778 -0.027930\n",
              "4          100000.0       2                 3  ... -0.034428  0.049697  0.005039\n",
              "5          100000.0       2                 1  ...  0.020839  0.017034 -0.035301\n",
              "6          200000.0       2                 3  ... -0.081434 -0.097319  0.183058\n",
              "7          500000.0       1                 1  ...  0.001787  0.026112 -0.049388\n",
              "8          500000.0       1                 1  ...  0.021346  0.051784  0.086268\n",
              "9          400000.0       2                 1  ... -0.032583  0.021387 -0.029208\n",
              "\n",
              "[10 rows x 18 columns]"
            ]
          },
          "metadata": {
            "tags": []
          },
          "execution_count": 161
        }
      ]
    },
    {
      "cell_type": "markdown",
      "metadata": {
        "id": "t8K77Tx_zwsF",
        "colab_type": "text"
      },
      "source": [
        "Concat PCA applied features with the normal ones."
      ]
    },
    {
      "cell_type": "code",
      "metadata": {
        "id": "QhuCP1CsN4s7",
        "colab_type": "code",
        "colab": {}
      },
      "source": [
        "DATA_PCA2 = pd.concat([BEGIN_PAY, pd.DataFrame( data = PAY_PCA, columns=[\"pca1\",\"pca2\",\"pca3\",\"pca4\",\"pca5\"]),pd.DataFrame( data = DUE_PAID_PCA, columns=[\"pca6\",\"pca7\",\"pca8\",\"pca9\",\"pca10\",\"pca11\",\"pca12\"])], axis=1)\n",
        "TEST_PCA2 = pd.concat([BEGIN_PAY_TEST, pd.DataFrame( data = PAY_TEST_PCA, columns=[\"pca1\",\"pca2\",\"pca3\",\"pca4\",\"pca5\"]),pd.DataFrame( data = DUE_PAID_TEST_PCA, columns=[\"pca6\",\"pca7\",\"pca8\",\"pca9\",\"pca10\",\"pca11\",\"pca12\"])], axis=1)"
      ],
      "execution_count": 0,
      "outputs": []
    },
    {
      "cell_type": "markdown",
      "metadata": {
        "id": "SiwgFURTH_D5",
        "colab_type": "text"
      },
      "source": [
        "**Co-relation matrix after PCA1**"
      ]
    },
    {
      "cell_type": "code",
      "metadata": {
        "id": "MUzusJlu4LQC",
        "colab_type": "code",
        "colab": {
          "base_uri": "https://localhost:8080/",
          "height": 640
        },
        "outputId": "decb7647-f2e8-4763-84ec-d150f7bb82b7"
      },
      "source": [
        "correlations = correlation_heatmap(DATA_PCA1)"
      ],
      "execution_count": 58,
      "outputs": [
        {
          "output_type": "display_data",
          "data": {
            "image/png": "[encoded data removed]",
            "text/plain": [
              "<Figure size 720x720 with 2 Axes>"
            ]
          },
          "metadata": {
            "tags": []
          }
        }
      ]
    },
    {
      "cell_type": "markdown",
      "metadata": {
        "id": "3KTeB23NQi85",
        "colab_type": "text"
      },
      "source": [
        "**Co-relation matrix after PCA2**"
      ]
    },
    {
      "cell_type": "code",
      "metadata": {
        "id": "tXJXRSuPQiaN",
        "colab_type": "code",
        "colab": {
          "base_uri": "https://localhost:8080/",
          "height": 640
        },
        "outputId": "b7bfd054-c8ee-4492-81a2-828901dcb0e9"
      },
      "source": [
        "correlations2 = correlation_heatmap(DATA_PCA2)"
      ],
      "execution_count": 59,
      "outputs": [
        {
          "output_type": "display_data",
          "data": {
            "image/png": "[encoded data removed]",
            "text/plain": [
              "<Figure size 720x720 with 2 Axes>"
            ]
          },
          "metadata": {
            "tags": []
          }
        }
      ]
    },
    {
      "cell_type": "markdown",
      "metadata": {
        "id": "wK-PFoWAQvI1",
        "colab_type": "text"
      },
      "source": [
        "As we can observe from above two matices, we can clearly see that the independency between features is preserved after appltying PCA."
      ]
    },
    {
      "cell_type": "code",
      "metadata": {
        "id": "Ik36eD8ybk-N",
        "colab_type": "code",
        "colab": {}
      },
      "source": [
        "#training data\n",
        "X_TRAIN_PCA1 = DATA_PCA1.copy()\n",
        "X_TRAIN_PCA2 = DATA_PCA2.copy()\n",
        "X_train_ori = df.iloc[:, :-1]\n",
        "\n",
        "#target variable\n",
        "Y      = df[\"NEXT_MONTH_DEFAULT\"]"
      ],
      "execution_count": 0,
      "outputs": []
    },
    {
      "cell_type": "markdown",
      "metadata": {
        "id": "MAAy7TZv0gxX",
        "colab_type": "text"
      },
      "source": [
        "**To overcome the issue of Imbalanced Dataset, We used SMOTE balancing algorithm. Using that we generated new synthesised minority datasets to equal with majority class.**"
      ]
    },
    {
      "cell_type": "code",
      "metadata": {
        "id": "_OirzcSRi6Ft",
        "colab_type": "code",
        "colab": {
          "base_uri": "https://localhost:8080/",
          "height": 34
        },
        "outputId": "3fda0ff1-3206-4ffe-9e89-229ef5df33bc"
      },
      "source": [
        "#original dataset's class distribution\n",
        "counter = Counter(Y)\n",
        "print(counter)"
      ],
      "execution_count": 103,
      "outputs": [
        {
          "output_type": "stream",
          "text": [
            "Counter({0: 18670, 1: 5330})\n"
          ],
          "name": "stdout"
        }
      ]
    },
    {
      "cell_type": "markdown",
      "metadata": {
        "id": "JH83cLi50zAV",
        "colab_type": "text"
      },
      "source": [
        "**Upsampling the minority class.**"
      ]
    },
    {
      "cell_type": "code",
      "metadata": {
        "id": "aiXGaeOQiGMm",
        "colab_type": "code",
        "colab": {}
      },
      "source": [
        "oversample = SMOTE()\n",
        "X1, Y1 = oversample.fit_resample(X_TRAIN_PCA1, Y)"
      ],
      "execution_count": 0,
      "outputs": []
    },
    {
      "cell_type": "code",
      "metadata": {
        "id": "cHbi2khZfJvR",
        "colab_type": "code",
        "colab": {
          "base_uri": "https://localhost:8080/",
          "height": 34
        },
        "outputId": "3d98ba6b-aa7c-4f6d-ee25-448d46f24fc5"
      },
      "source": [
        "#class distribution after applying SMOTE\n",
        "counter = Counter(Y1)\n",
        "print(counter)"
      ],
      "execution_count": 167,
      "outputs": [
        {
          "output_type": "stream",
          "text": [
            "Counter({0: 18670, 1: 18670})\n"
          ],
          "name": "stdout"
        }
      ]
    },
    {
      "cell_type": "code",
      "metadata": {
        "id": "AsChX3D8j5SY",
        "colab_type": "code",
        "colab": {}
      },
      "source": [
        "#converting numpy array back into pandas data frame\n",
        "X_df = pd.DataFrame(data = X1, columns=['Balance_Limit_V1', 'Gender', 'EDUCATION_STATUS', 'MARITAL_STATUS',\n",
        "       'AGE', 'PAY_JULY', 'PAY_AUG', 'PAY_SEP', 'PAY_OCT', 'PAY_NOV',\n",
        "       'PAY_DEC', 'pca1', 'pca2', 'pca3', 'pca4', 'pca5', 'pca6', 'pca7'])\n",
        "\n",
        "Y_df = pd.DataFrame(data = Y1, columns=['NEXT_MONTH_DEFAULT'])"
      ],
      "execution_count": 0,
      "outputs": []
    },
    {
      "cell_type": "markdown",
      "metadata": {
        "id": "78XCaoYC1h44",
        "colab_type": "text"
      },
      "source": [
        "**Class Distribution after SMOTE**"
      ]
    },
    {
      "cell_type": "code",
      "metadata": {
        "id": "8hR4Dg21ktNj",
        "colab_type": "code",
        "colab": {
          "base_uri": "https://localhost:8080/",
          "height": 316
        },
        "outputId": "4b1209f5-7c86-44af-98a7-7b5730883750"
      },
      "source": [
        "print(\"No of possitive samples : \", len(Y_df.loc[Y_df[\"NEXT_MONTH_DEFAULT\"]==1]))\n",
        "print(\"No of negative samples : \", len(Y_df.loc[Y_df[\"NEXT_MONTH_DEFAULT\"]==0]))\n",
        "target = Y_df.NEXT_MONTH_DEFAULT.value_counts()\n",
        "sns.barplot(target.index, target)\n",
        "plt.gca().set_ylabel('samples') #gca - gets current axis of current figure"
      ],
      "execution_count": 169,
      "outputs": [
        {
          "output_type": "stream",
          "text": [
            "No of possitive samples :  18670\n",
            "No of negative samples :  18670\n"
          ],
          "name": "stdout"
        },
        {
          "output_type": "execute_result",
          "data": {
            "text/plain": [
              "Text(0, 0.5, 'samples')"
            ]
          },
          "metadata": {
            "tags": []
          },
          "execution_count": 169
        },
        {
          "output_type": "display_data",
          "data": {
            "image/png": "[encoded data removed]",
            "text/plain": [
              "<Figure size 432x288 with 1 Axes>"
            ]
          },
          "metadata": {
            "tags": []
          }
        }
      ]
    },
    {
      "cell_type": "markdown",
      "metadata": {
        "id": "dnDgPyZG1qGU",
        "colab_type": "text"
      },
      "source": [
        "As we can see, now the dataset is completely balanced with new synthesised minority classes."
      ]
    },
    {
      "cell_type": "markdown",
      "metadata": {
        "id": "QGE3jYIxPojW",
        "colab_type": "text"
      },
      "source": [
        "**Dividing the dataset into train and test sets.**"
      ]
    },
    {
      "cell_type": "code",
      "metadata": {
        "id": "VT3CXE4deSW_",
        "colab_type": "code",
        "colab": {}
      },
      "source": [
        "X_train, X_test, y_train, y_test = train_test_split(\n",
        "...     X_TRAIN_PCA1, Y, test_size=0.2, random_state=42) #without SMOTE"
      ],
      "execution_count": 0,
      "outputs": []
    },
    {
      "cell_type": "code",
      "metadata": {
        "id": "xo1IH70-jyoS",
        "colab_type": "code",
        "colab": {}
      },
      "source": [
        "X3_train, X3_test, y3_train, y3_test = train_test_split(\n",
        "...     X_df, Y_df, test_size=0.2, random_state=42) #with SMOTE"
      ],
      "execution_count": 0,
      "outputs": []
    },
    {
      "cell_type": "markdown",
      "metadata": {
        "id": "v6fAHbeNBURy",
        "colab_type": "text"
      },
      "source": [
        "**Testing Out Balanced Bagging Classifier with Random forest and PCA**"
      ]
    },
    {
      "cell_type": "markdown",
      "metadata": {
        "id": "QqHUL-yeB69K",
        "colab_type": "text"
      },
      "source": [
        "**Utils**"
      ]
    },
    {
      "cell_type": "code",
      "metadata": {
        "id": "TaCaZ9yKY1Kn",
        "colab_type": "code",
        "colab": {}
      },
      "source": [
        "def get_feature_importance(clsf, ftrs):\n",
        "    imp = clsf.feature_importances_.tolist()\n",
        "    feat = ftrs\n",
        "    result = pd.DataFrame({'feature':feat,'score':imp})\n",
        "    result = result.sort_values(by=['score'],ascending=False)\n",
        "    return result"
      ],
      "execution_count": 0,
      "outputs": []
    },
    {
      "cell_type": "code",
      "metadata": {
        "id": "JdaGGLEfoXrT",
        "colab_type": "code",
        "colab": {}
      },
      "source": [
        "def classification( classifier , X_train, X_test, Y_train, Y_test):\n",
        "    classifier.fit(X_train, Y_train)\n",
        "    y_pred = classifier.predict(X_test)\n",
        "    score  = classifier.score(X_test,Y_test)\n",
        "    report = classification_report(Y_test, y_pred)\n",
        "    cm     = confusion_matrix(Y_test, y_pred)\n",
        "    return score, report, cm"
      ],
      "execution_count": 0,
      "outputs": []
    },
    {
      "cell_type": "code",
      "metadata": {
        "id": "fIkPiCZ6OtS0",
        "colab_type": "code",
        "colab": {}
      },
      "source": [
        "def Submission( classifier , X_train, X_test, Y_train):\n",
        "    classifier.fit(X_train, Y_train)\n",
        "    y_pred = classifier.predict(X_test)\n",
        "    output = pd.DataFrame( data = {'Client_ID': test_data['Client_ID'], 'NEXT_MONTH_DEFAULT': y_pred})\n",
        "    return output"
      ],
      "execution_count": 0,
      "outputs": []
    },
    {
      "cell_type": "markdown",
      "metadata": {
        "id": "tU3I_ure0r0R",
        "colab_type": "text"
      },
      "source": [
        "**RandomizedSearchCV for optimal Parameters**"
      ]
    },
    {
      "cell_type": "code",
      "metadata": {
        "id": "njJm0cKM0HW2",
        "colab_type": "code",
        "colab": {}
      },
      "source": [
        "# Number of trees in random forest\n",
        "n_estimators = [int(x) for x in np.linspace(start = 10, stop = 200, num = 10)]\n",
        "# Number of features to consider at every split\n",
        "max_features = ['auto', 'sqrt', 'log2']\n",
        "# Maximum number of levels in tree\n",
        "max_depth = [int(x) for x in np.linspace(2, 30, num = 15)]\n",
        "max_depth.append(None)\n",
        "# Minimum number of samples required at each leaf node\n",
        "min_samples_leaf = [int(x) for x in np.linspace(2, 50, num = 25)]\n",
        "# Minimum number of samples to split an internal node\n",
        "min_samples_split = [int(x) for x in np.linspace(2, 100, num = 50)]\n",
        "skf = StratifiedKFold(n_splits = 5, shuffle=True, random_state=268)\n",
        "# Create the random grid\n",
        "random_grid = {'n_estimators': n_estimators,\n",
        "               'max_features': max_features,\n",
        "               'max_depth': max_depth,\n",
        "               'min_samples_leaf': min_samples_leaf,\n",
        "               'min_samples_split' : min_samples_split,\n",
        "               'n_jobs' : [-1],\n",
        "               'random_state' : [42]}"
      ],
      "execution_count": 0,
      "outputs": []
    },
    {
      "cell_type": "code",
      "metadata": {
        "colab_type": "code",
        "id": "M6B94TAsCrWL",
        "colab": {}
      },
      "source": [
        "grid_forest = RandomizedSearchCV(estimator = RandomForestClassifier(), param_distributions = random_grid, \n",
        "                               n_iter = 50, cv = skf, random_state=42, n_jobs = -1,\n",
        "                                scoring = 'accuracy')"
      ],
      "execution_count": 0,
      "outputs": []
    },
    {
      "cell_type": "code",
      "metadata": {
        "id": "P770c5fX1k3_",
        "colab_type": "code",
        "colab": {}
      },
      "source": [
        "grid_forest.fit(X_train, y_train)\n",
        "\n",
        "#let's see the best estimator\n",
        "best_forest = grid_forest.best_estimator_\n",
        "print(best_forest)\n",
        "print(\"_\"*40)\n",
        "#with its score\n",
        "print(\"Cross-validated best score {}%\".format(round(grid_forest.best_score_ * 100,3)))\n",
        "#score on test\n",
        "predictions = best_forest.predict(X_test)"
      ],
      "execution_count": 0,
      "outputs": []
    },
    {
      "cell_type": "markdown",
      "metadata": {
        "colab_type": "text",
        "id": "gqNn7wt1_vyJ"
      },
      "source": [
        "Different Classifiers"
      ]
    },
    {
      "cell_type": "code",
      "metadata": {
        "id": "m1qmGrpM2EW9",
        "colab_type": "code",
        "colab": {}
      },
      "source": [
        "RF = RandomForestClassifier(bootstrap=True, ccp_alpha=0.0, class_weight=None,\n",
        "                       criterion='gini', max_depth=6, max_features='log2',\n",
        "                       max_leaf_nodes=None, max_samples=None,\n",
        "                       min_impurity_decrease=0.0, min_impurity_split=None,\n",
        "                       min_samples_leaf=14, min_samples_split=72,\n",
        "                       min_weight_fraction_leaf=0.0, n_estimators=115,\n",
        "                       n_jobs=-1, oob_score=False, random_state=42, verbose=0,\n",
        "                       warm_start=False) #from RandomizedSearch"
      ],
      "execution_count": 0,
      "outputs": []
    },
    {
      "cell_type": "code",
      "metadata": {
        "id": "J9H0Btwv_ztf",
        "colab_type": "code",
        "colab": {}
      },
      "source": [
        "RF2 = RandomForestClassifier(bootstrap=True, ccp_alpha=0.0, class_weight=None,\n",
        "                       criterion='gini', max_depth=16, max_features='auto',\n",
        "                       max_leaf_nodes=None, max_samples=None,\n",
        "                       min_impurity_decrease=0.0, min_impurity_split=None,\n",
        "                       min_samples_leaf=46, min_samples_split=8,\n",
        "                       min_weight_fraction_leaf=0.0, n_estimators=178,\n",
        "                       n_jobs=-1, oob_score=False, random_state=42, verbose=0,\n",
        "                       warm_start=False)"
      ],
      "execution_count": 0,
      "outputs": []
    },
    {
      "cell_type": "code",
      "metadata": {
        "id": "SggMRsGvYv-p",
        "colab_type": "code",
        "colab": {}
      },
      "source": [
        "RF3 = RandomForestClassifier(bootstrap=True, ccp_alpha=0.0, class_weight=None,\n",
        "                       criterion='gini', max_depth=8, max_features='sqrt',\n",
        "                       max_leaf_nodes=None, max_samples=None,\n",
        "                       min_impurity_decrease=0.0, min_impurity_split=None,\n",
        "                       min_samples_leaf=28, min_samples_split=88,\n",
        "                       min_weight_fraction_leaf=0.0, n_estimators=52, n_jobs=-1,\n",
        "                       oob_score=False, random_state=42, verbose=0,\n",
        "                       warm_start=False)"
      ],
      "execution_count": 0,
      "outputs": []
    },
    {
      "cell_type": "code",
      "metadata": {
        "id": "vNXmSlcDiE3-",
        "colab_type": "code",
        "colab": {}
      },
      "source": [
        "XGB  = xgb.XGBClassifier(base_score=0.5, booster='gbtree', colsample_bylevel=1,\n",
        "       colsample_bytree=1, gamma=0, learning_rate=0.05, max_delta_step=0,\n",
        "       max_depth=3, min_child_weight=1, missing=None, n_estimators=401,\n",
        "       n_jobs=-1, nthread=None, objective='binary:logistic',\n",
        "       random_state=0, reg_alpha=0, reg_lambda=1, scale_pos_weight=1,\n",
        "       seed=None, silent=True, subsample=1)\n"
      ],
      "execution_count": 0,
      "outputs": []
    },
    {
      "cell_type": "code",
      "metadata": {
        "id": "iqutmdeLliCa",
        "colab_type": "code",
        "colab": {}
      },
      "source": [
        "BBC = BalancedBaggingClassifier( base_estimator = RF2 , random_state=0 )"
      ],
      "execution_count": 0,
      "outputs": []
    },
    {
      "cell_type": "markdown",
      "metadata": {
        "id": "o8fnVKZw23A6",
        "colab_type": "text"
      },
      "source": [
        "**Algorithm selected :  XGBoost**"
      ]
    },
    {
      "cell_type": "code",
      "metadata": {
        "colab_type": "code",
        "id": "A_nu3X2oC1RT",
        "colab": {}
      },
      "source": [
        "score , report, cm = classification( XGB , X3_train, X3_test, y3_train, y3_test)"
      ],
      "execution_count": 0,
      "outputs": []
    },
    {
      "cell_type": "code",
      "metadata": {
        "id": "-XZjpN9VY-ml",
        "colab_type": "code",
        "colab": {
          "base_uri": "https://localhost:8080/",
          "height": 170
        },
        "outputId": "66393cf4-a5be-4e8c-ea19-a8deca097a67"
      },
      "source": [
        "print(report)  # XGB with SMOTE"
      ],
      "execution_count": 159,
      "outputs": [
        {
          "output_type": "stream",
          "text": [
            "              precision    recall  f1-score   support\n",
            "\n",
            "           0       0.81      0.93      0.86      3734\n",
            "           1       0.85      0.62      0.72      2241\n",
            "\n",
            "    accuracy                           0.82      5975\n",
            "   macro avg       0.83      0.78      0.79      5975\n",
            "weighted avg       0.82      0.82      0.81      5975\n",
            "\n"
          ],
          "name": "stdout"
        }
      ]
    },
    {
      "cell_type": "code",
      "metadata": {
        "id": "5SRFl6g458Us",
        "colab_type": "code",
        "colab": {
          "base_uri": "https://localhost:8080/",
          "height": 51
        },
        "outputId": "8b6c3c3a-5b8c-4346-e902-11a82af3e0ce"
      },
      "source": [
        "cm # XGB with SMOTE"
      ],
      "execution_count": 143,
      "outputs": [
        {
          "output_type": "execute_result",
          "data": {
            "text/plain": [
              "array([[3001,  733],\n",
              "       [ 728, 1513]])"
            ]
          },
          "metadata": {
            "tags": []
          },
          "execution_count": 143
        }
      ]
    },
    {
      "cell_type": "code",
      "metadata": {
        "id": "08vYKZ6JSVLP",
        "colab_type": "code",
        "colab": {}
      },
      "source": [
        "output = Submission( XGB, X_df,  TEST_PCA1, Y_df )"
      ],
      "execution_count": 0,
      "outputs": []
    },
    {
      "cell_type": "code",
      "metadata": {
        "id": "xi1vnqA0Sktq",
        "colab_type": "code",
        "colab": {}
      },
      "source": [
        "output.to_csv(\"/content/Submission4.csv\", index = False, quoting=3)"
      ],
      "execution_count": 0,
      "outputs": []
    }
  ]
}