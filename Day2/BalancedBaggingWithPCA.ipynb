{
  "nbformat": 4,
  "nbformat_minor": 0,
  "metadata": {
    "colab": {
      "name": "Untitled",
      "provenance": [],
      "collapsed_sections": [],
      "toc_visible": true
    },
    "kernelspec": {
      "name": "python3",
      "display_name": "Python 3"
    }
  },
  "cells": [
    {
      "cell_type": "code",
      "metadata": {
        "id": "xNodqSDs9hfL",
        "colab_type": "code",
        "colab": {}
      },
      "source": [
        "import sklearn\n",
        "import numpy as np \n",
        "import pandas as pd\n",
        "from sklearn import preprocessing\n",
        "from imblearn.ensemble import BalancedBaggingClassifier \n",
        "import seaborn as sns\n",
        "import matplotlib.pyplot as plt\n",
        "from sklearn.decomposition import PCA\n",
        "from sklearn.model_selection import train_test_split\n",
        "from sklearn.ensemble import RandomForestClassifier,GradientBoostingClassifier,AdaBoostClassifier\n",
        "from sklearn.svm import SVC\n",
        "from sklearn.metrics import confusion_matrix, f1_score, classification_report\n",
        "from sklearn.tree import DecisionTreeClassifier\n",
        "import xgboost as xgb\n",
        "from sklearn.model_selection import RandomizedSearchCV\n",
        "from sklearn.model_selection import GridSearchCV, StratifiedKFold\n",
        "import warnings\n",
        "warnings.filterwarnings(\"ignore\")\n"
      ],
      "execution_count": 0,
      "outputs": []
    },
    {
      "cell_type": "markdown",
      "metadata": {
        "id": "CSaos7egXipg",
        "colab_type": "text"
      },
      "source": [
        "**`Loading training data and test data.`**"
      ]
    },
    {
      "cell_type": "code",
      "metadata": {
        "id": "FTP_nzXO9tIa",
        "colab_type": "code",
        "colab": {}
      },
      "source": [
        "df = pd.read_csv(\"/content/credit_card_default_train.csv\")\n",
        "test_data= pd.read_csv(\"/content/credit_card_default_test.csv\")"
      ],
      "execution_count": 0,
      "outputs": []
    },
    {
      "cell_type": "markdown",
      "metadata": {
        "id": "0o52RV9bGv0D",
        "colab_type": "text"
      },
      "source": [
        "Removing Client ID column"
      ]
    },
    {
      "cell_type": "code",
      "metadata": {
        "id": "NeYMW6cfA32G",
        "colab_type": "code",
        "colab": {}
      },
      "source": [
        "df = df.iloc[:,1:]\n",
        "test_data_ = test_data.iloc[:,1:]"
      ],
      "execution_count": 0,
      "outputs": []
    },
    {
      "cell_type": "markdown",
      "metadata": {
        "id": "t1kUK9g7CFi2",
        "colab_type": "text"
      },
      "source": [
        "**Custom Label Encoder**"
      ]
    },
    {
      "cell_type": "code",
      "metadata": {
        "id": "3nizlW8QBXN1",
        "colab_type": "code",
        "colab": {}
      },
      "source": [
        "def encoder(feature, classes):\n",
        "  return classes.index(feature)+1"
      ],
      "execution_count": 0,
      "outputs": []
    },
    {
      "cell_type": "code",
      "metadata": {
        "id": "NYvsQTJ1Fqta",
        "colab_type": "code",
        "colab": {}
      },
      "source": [
        "#training data\n",
        "EDUCATION_STATUS_Classes = list(df['EDUCATION_STATUS'].value_counts().index)\n",
        "MARITAL_STATUS_Classes = list(df['MARITAL_STATUS'].value_counts().index)\n",
        "Gender_Classes = list(df['Gender'].value_counts().index)\n",
        "AGE_Classes = list(df['AGE'].value_counts().index)\n",
        "\n",
        "#test_data\n",
        "EDUCATION_STATUS_Classes = list(test_data_['EDUCATION_STATUS'].value_counts().index)\n",
        "MARITAL_STATUS_Classes = list(test_data_['MARITAL_STATUS'].value_counts().index)\n",
        "Gender_Classes = list(test_data_['Gender'].value_counts().index)\n",
        "AGE_Classes = list(test_data_['AGE'].value_counts().index)"
      ],
      "execution_count": 0,
      "outputs": []
    },
    {
      "cell_type": "code",
      "metadata": {
        "id": "qIOqpD_jBXSY",
        "colab_type": "code",
        "colab": {}
      },
      "source": [
        "#training data\n",
        "df[\"EDUCATION_STATUS\"] = df[\"EDUCATION_STATUS\"].apply(lambda feature: encoder( feature, EDUCATION_STATUS_Classes))\n",
        "df[\"MARITAL_STATUS\"] = df[\"MARITAL_STATUS\"].apply(lambda feature: encoder( feature, MARITAL_STATUS_Classes))\n",
        "df[\"Gender\"] = df[\"Gender\"].apply(lambda feature: encoder( feature, Gender_Classes))\n",
        "df[\"AGE\"] = df[\"AGE\"].apply(lambda feature: encoder( feature, AGE_Classes))\n",
        "#test data\n",
        "test_data_[\"EDUCATION_STATUS\"] = test_data_[\"EDUCATION_STATUS\"].apply(lambda feature: encoder( feature, EDUCATION_STATUS_Classes))\n",
        "test_data_[\"MARITAL_STATUS\"] = test_data_[\"MARITAL_STATUS\"].apply(lambda feature: encoder( feature, MARITAL_STATUS_Classes))\n",
        "test_data_[\"Gender\"] = test_data_[\"Gender\"].apply(lambda feature: encoder( feature, Gender_Classes))\n",
        "test_data_[\"AGE\"] = test_data_[\"AGE\"].apply(lambda feature: encoder( feature, AGE_Classes))"
      ],
      "execution_count": 0,
      "outputs": []
    },
    {
      "cell_type": "code",
      "metadata": {
        "id": "rP9J2PTTYJIs",
        "colab_type": "code",
        "colab": {}
      },
      "source": [
        "def normalize_Balance_Limit_V1( balance ):\n",
        "  #function to format balance limit values\n",
        "    if balance[-1] == \"K\":\n",
        "        balance = eval(balance[:-1])*1000\n",
        "    else:\n",
        "        balance = eval(balance[:-1])*1000000\n",
        "    return balance"
      ],
      "execution_count": 0,
      "outputs": []
    },
    {
      "cell_type": "code",
      "metadata": {
        "id": "O2Fu9hGVaWsI",
        "colab_type": "code",
        "colab": {}
      },
      "source": [
        "df[\"Balance_Limit_V1\"] = df[\"Balance_Limit_V1\"].apply(lambda balance: normalize_Balance_Limit_V1( balance ))\n",
        "test_data_[\"Balance_Limit_V1\"] = test_data_[\"Balance_Limit_V1\"].apply(lambda balance: normalize_Balance_Limit_V1( balance ))"
      ],
      "execution_count": 0,
      "outputs": []
    },
    {
      "cell_type": "markdown",
      "metadata": {
        "id": "NXS28Z_iJbHW",
        "colab_type": "text"
      },
      "source": [
        "**General Dataset Analysis**\n"
      ]
    },
    {
      "cell_type": "code",
      "metadata": {
        "id": "yRmjrmDPJhUy",
        "colab_type": "code",
        "outputId": "29c85655-0233-401e-c49a-c43a5a346925",
        "colab": {
          "base_uri": "https://localhost:8080/",
          "height": 316
        }
      },
      "source": [
        "print(\"No of possitive samples : \", len(df.loc[df[\"NEXT_MONTH_DEFAULT\"]==1]))\n",
        "print(\"No of negative samples : \", len(df.loc[df[\"NEXT_MONTH_DEFAULT\"]==0]))\n",
        "target = df.NEXT_MONTH_DEFAULT.value_counts()\n",
        "sns.barplot(target.index, target)\n",
        "plt.gca().set_ylabel('samples') #gca - gets current axis of current figure"
      ],
      "execution_count": 0,
      "outputs": [
        {
          "output_type": "stream",
          "text": [
            "No of possitive samples :  5330\n",
            "No of negative samples :  18670\n"
          ],
          "name": "stdout"
        },
        {
          "output_type": "execute_result",
          "data": {
            "text/plain": [
              "Text(0, 0.5, 'samples')"
            ]
          },
          "metadata": {
            "tags": []
          },
          "execution_count": 11
        },
        {
          "output_type": "display_data",
          "data": {
            "image/png": "[encoded data removed]",
            "text/plain": [
              "<Figure size 432x288 with 1 Axes>"
            ]
          },
          "metadata": {
            "tags": []
          }
        }
      ]
    },
    {
      "cell_type": "markdown",
      "metadata": {
        "id": "HskrB8FcjTGs",
        "colab_type": "text"
      },
      "source": [
        "**Selecting features based on correlation.** \n",
        "\n",
        "Generating the correlation matrix"
      ]
    },
    {
      "cell_type": "code",
      "metadata": {
        "id": "U3fJW_5KpOpc",
        "colab_type": "code",
        "colab": {}
      },
      "source": [
        "def correlation_heatmap(data):\n",
        "    correlations = data.corr()\n",
        "\n",
        "    fig, ax = plt.subplots(figsize=(10,10))\n",
        "    sns.heatmap(correlations, vmax=1.0, center=0, fmt='.2f',\n",
        "                square=True, linewidths=.5, annot=False, cbar_kws={\"shrink\": 1.0})\n",
        "    plt.show()\n",
        "    return correlations\n"
      ],
      "execution_count": 0,
      "outputs": []
    },
    {
      "cell_type": "code",
      "metadata": {
        "id": "0NmKvu4kRJUg",
        "colab_type": "code",
        "outputId": "f1e6358c-d5fb-4b3b-f5de-82ec0e7fb7cc",
        "colab": {
          "base_uri": "https://localhost:8080/",
          "height": 656
        }
      },
      "source": [
        "correlations = correlation_heatmap(df)"
      ],
      "execution_count": 0,
      "outputs": [
        {
          "output_type": "display_data",
          "data": {
            "image/png": "[encoded data removed]",
            "text/plain": [
              "<Figure size 720x720 with 2 Axes>"
            ]
          },
          "metadata": {
            "tags": []
          }
        }
      ]
    },
    {
      "cell_type": "markdown",
      "metadata": {
        "id": "9l_7QE5iHCPU",
        "colab_type": "text"
      },
      "source": [
        "Selecting DUE_AMT_XX , PAID_AMT_XX columns to apply PCA"
      ]
    },
    {
      "cell_type": "code",
      "metadata": {
        "id": "840EkM-qxFWR",
        "colab_type": "code",
        "colab": {}
      },
      "source": [
        "col_pca  = df[['DUE_AMT_JULY', 'DUE_AMT_AUG', 'DUE_AMT_SEP', 'DUE_AMT_OCT',\n",
        "       'DUE_AMT_NOV', 'DUE_AMT_DEC', 'PAID_AMT_JULY', 'PAID_AMT_AUG',\n",
        "       'PAID_AMT_SEP', 'PAID_AMT_OCT', 'PAID_AMT_NOV', 'PAID_AMT_DEC']].copy()\n",
        "test_pca = test_data_[['DUE_AMT_JULY', 'DUE_AMT_AUG', 'DUE_AMT_SEP', 'DUE_AMT_OCT',\n",
        "       'DUE_AMT_NOV', 'DUE_AMT_DEC', 'PAID_AMT_JULY', 'PAID_AMT_AUG',\n",
        "       'PAID_AMT_SEP', 'PAID_AMT_OCT', 'PAID_AMT_NOV', 'PAID_AMT_DEC']].copy()"
      ],
      "execution_count": 0,
      "outputs": []
    },
    {
      "cell_type": "markdown",
      "metadata": {
        "id": "UV51jG-tH20B",
        "colab_type": "text"
      },
      "source": [
        "Keeping the other columns seperately"
      ]
    },
    {
      "cell_type": "code",
      "metadata": {
        "id": "mCUllxxK3yRG",
        "colab_type": "code",
        "colab": {}
      },
      "source": [
        "begin = df[['Balance_Limit_V1', 'Gender', 'EDUCATION_STATUS', 'MARITAL_STATUS',\n",
        "       'AGE', 'PAY_JULY', 'PAY_AUG', 'PAY_SEP', 'PAY_OCT', 'PAY_NOV',\n",
        "       'PAY_DEC']].copy()\n",
        "\n",
        "test_begin = test_data_[['Balance_Limit_V1', 'Gender', 'EDUCATION_STATUS', 'MARITAL_STATUS',\n",
        "       'AGE', 'PAY_JULY', 'PAY_AUG', 'PAY_SEP', 'PAY_OCT', 'PAY_NOV',\n",
        "       'PAY_DEC']].copy()"
      ],
      "execution_count": 0,
      "outputs": []
    },
    {
      "cell_type": "markdown",
      "metadata": {
        "id": "FhokSej8iUBu",
        "colab_type": "text"
      },
      "source": [
        "**Standardising features to have a mean = 0 and SD = 1**\n"
      ]
    },
    {
      "cell_type": "code",
      "metadata": {
        "id": "FpUS05INyBhv",
        "colab_type": "code",
        "colab": {}
      },
      "source": [
        "standardScaler = preprocessing.StandardScaler()"
      ],
      "execution_count": 0,
      "outputs": []
    },
    {
      "cell_type": "code",
      "metadata": {
        "id": "ELOiM1qWyLQu",
        "colab_type": "code",
        "colab": {}
      },
      "source": [
        "for feature in col_pca.columns:\n",
        "  col_pca[feature]= standardScaler.fit_transform(col_pca[feature].values.reshape(-1,1))\n",
        "  test_pca[feature]= standardScaler.fit_transform(test_pca[feature].values.reshape(-1,1))"
      ],
      "execution_count": 0,
      "outputs": []
    },
    {
      "cell_type": "code",
      "metadata": {
        "id": "59a61OewyTRe",
        "colab_type": "code",
        "colab": {}
      },
      "source": [
        "temp = col_pca.copy()\n",
        "temp2 = test_pca.copy()"
      ],
      "execution_count": 0,
      "outputs": []
    },
    {
      "cell_type": "code",
      "metadata": {
        "id": "apcZ9lNx1d_6",
        "colab_type": "code",
        "colab": {
          "base_uri": "https://localhost:8080/",
          "height": 359
        },
        "outputId": "d19badad-2191-4c03-8550-7c509b36e5cf"
      },
      "source": [
        "temp2.head(10)"
      ],
      "execution_count": 138,
      "outputs": [
        {
          "output_type": "execute_result",
          "data": {
            "text/html": [
              "<div>\n",
              "<style scoped>\n",
              "    .dataframe tbody tr th:only-of-type {\n",
              "        vertical-align: middle;\n",
              "    }\n",
              "\n",
              "    .dataframe tbody tr th {\n",
              "        vertical-align: top;\n",
              "    }\n",
              "\n",
              "    .dataframe thead th {\n",
              "        text-align: right;\n",
              "    }\n",
              "</style>\n",
              "<table border=\"1\" class=\"dataframe\">\n",
              "  <thead>\n",
              "    <tr style=\"text-align: right;\">\n",
              "      <th></th>\n",
              "      <th>DUE_AMT_JULY</th>\n",
              "      <th>DUE_AMT_AUG</th>\n",
              "      <th>DUE_AMT_SEP</th>\n",
              "      <th>DUE_AMT_OCT</th>\n",
              "      <th>DUE_AMT_NOV</th>\n",
              "      <th>DUE_AMT_DEC</th>\n",
              "      <th>PAID_AMT_JULY</th>\n",
              "      <th>PAID_AMT_AUG</th>\n",
              "      <th>PAID_AMT_SEP</th>\n",
              "      <th>PAID_AMT_OCT</th>\n",
              "      <th>PAID_AMT_NOV</th>\n",
              "      <th>PAID_AMT_DEC</th>\n",
              "    </tr>\n",
              "  </thead>\n",
              "  <tbody>\n",
              "    <tr>\n",
              "      <th>0</th>\n",
              "      <td>0.469389</td>\n",
              "      <td>0.538905</td>\n",
              "      <td>0.143832</td>\n",
              "      <td>1.448656</td>\n",
              "      <td>1.934203</td>\n",
              "      <td>1.991979</td>\n",
              "      <td>0.045412</td>\n",
              "      <td>-0.002844</td>\n",
              "      <td>4.511344</td>\n",
              "      <td>1.179452</td>\n",
              "      <td>0.203018</td>\n",
              "      <td>0.055113</td>\n",
              "    </tr>\n",
              "    <tr>\n",
              "      <th>1</th>\n",
              "      <td>-0.174646</td>\n",
              "      <td>-0.138481</td>\n",
              "      <td>-0.091669</td>\n",
              "      <td>-0.027736</td>\n",
              "      <td>0.049833</td>\n",
              "      <td>0.095375</td>\n",
              "      <td>-0.251679</td>\n",
              "      <td>-0.242606</td>\n",
              "      <td>-0.198760</td>\n",
              "      <td>-0.173004</td>\n",
              "      <td>-0.190318</td>\n",
              "      <td>-0.180657</td>\n",
              "    </tr>\n",
              "    <tr>\n",
              "      <th>2</th>\n",
              "      <td>-0.682437</td>\n",
              "      <td>-0.634360</td>\n",
              "      <td>-0.626255</td>\n",
              "      <td>-0.591619</td>\n",
              "      <td>-0.599043</td>\n",
              "      <td>-0.652047</td>\n",
              "      <td>-0.156946</td>\n",
              "      <td>-0.345254</td>\n",
              "      <td>-0.237559</td>\n",
              "      <td>-0.301502</td>\n",
              "      <td>-0.262225</td>\n",
              "      <td>0.817512</td>\n",
              "    </tr>\n",
              "    <tr>\n",
              "      <th>3</th>\n",
              "      <td>-0.698635</td>\n",
              "      <td>-0.657945</td>\n",
              "      <td>-0.646963</td>\n",
              "      <td>-0.668452</td>\n",
              "      <td>-0.669816</td>\n",
              "      <td>-0.659523</td>\n",
              "      <td>-0.191419</td>\n",
              "      <td>-0.190961</td>\n",
              "      <td>-0.294283</td>\n",
              "      <td>-0.301502</td>\n",
              "      <td>-0.334131</td>\n",
              "      <td>-0.310779</td>\n",
              "    </tr>\n",
              "    <tr>\n",
              "      <th>4</th>\n",
              "      <td>-0.185822</td>\n",
              "      <td>-0.693806</td>\n",
              "      <td>-0.684231</td>\n",
              "      <td>-0.668452</td>\n",
              "      <td>-0.669816</td>\n",
              "      <td>-0.659523</td>\n",
              "      <td>-0.363782</td>\n",
              "      <td>-0.345254</td>\n",
              "      <td>-0.294283</td>\n",
              "      <td>-0.301502</td>\n",
              "      <td>-0.334131</td>\n",
              "      <td>-0.310779</td>\n",
              "    </tr>\n",
              "    <tr>\n",
              "      <th>5</th>\n",
              "      <td>-0.427724</td>\n",
              "      <td>-0.506524</td>\n",
              "      <td>-0.474156</td>\n",
              "      <td>-0.503853</td>\n",
              "      <td>-0.478343</td>\n",
              "      <td>-0.447399</td>\n",
              "      <td>-0.225892</td>\n",
              "      <td>-0.267854</td>\n",
              "      <td>-0.237559</td>\n",
              "      <td>-0.254998</td>\n",
              "      <td>-0.262225</td>\n",
              "      <td>-0.245718</td>\n",
              "    </tr>\n",
              "    <tr>\n",
              "      <th>6</th>\n",
              "      <td>0.059015</td>\n",
              "      <td>0.068511</td>\n",
              "      <td>0.117503</td>\n",
              "      <td>0.132727</td>\n",
              "      <td>0.214887</td>\n",
              "      <td>0.193679</td>\n",
              "      <td>-0.239681</td>\n",
              "      <td>-0.104557</td>\n",
              "      <td>-0.277266</td>\n",
              "      <td>-0.083055</td>\n",
              "      <td>-0.334131</td>\n",
              "      <td>-0.050535</td>\n",
              "    </tr>\n",
              "    <tr>\n",
              "      <th>7</th>\n",
              "      <td>-0.563787</td>\n",
              "      <td>-0.662676</td>\n",
              "      <td>-0.684231</td>\n",
              "      <td>-0.668452</td>\n",
              "      <td>-0.669816</td>\n",
              "      <td>-0.659523</td>\n",
              "      <td>-0.294837</td>\n",
              "      <td>-0.345254</td>\n",
              "      <td>-0.294283</td>\n",
              "      <td>-0.301502</td>\n",
              "      <td>-0.334131</td>\n",
              "      <td>-0.310779</td>\n",
              "    </tr>\n",
              "    <tr>\n",
              "      <th>8</th>\n",
              "      <td>-0.657175</td>\n",
              "      <td>-0.691596</td>\n",
              "      <td>-0.652765</td>\n",
              "      <td>-0.652315</td>\n",
              "      <td>-0.659623</td>\n",
              "      <td>-0.649277</td>\n",
              "      <td>-0.353157</td>\n",
              "      <td>-0.214713</td>\n",
              "      <td>-0.236036</td>\n",
              "      <td>-0.263203</td>\n",
              "      <td>-0.291765</td>\n",
              "      <td>-0.238226</td>\n",
              "    </tr>\n",
              "    <tr>\n",
              "      <th>9</th>\n",
              "      <td>1.094429</td>\n",
              "      <td>0.211331</td>\n",
              "      <td>0.175912</td>\n",
              "      <td>0.169279</td>\n",
              "      <td>0.163287</td>\n",
              "      <td>0.189666</td>\n",
              "      <td>-0.156946</td>\n",
              "      <td>-0.215648</td>\n",
              "      <td>-0.152472</td>\n",
              "      <td>-0.166579</td>\n",
              "      <td>-0.183128</td>\n",
              "      <td>-0.213188</td>\n",
              "    </tr>\n",
              "  </tbody>\n",
              "</table>\n",
              "</div>"
            ],
            "text/plain": [
              "   DUE_AMT_JULY  DUE_AMT_AUG  ...  PAID_AMT_NOV  PAID_AMT_DEC\n",
              "0      0.469389     0.538905  ...      0.203018      0.055113\n",
              "1     -0.174646    -0.138481  ...     -0.190318     -0.180657\n",
              "2     -0.682437    -0.634360  ...     -0.262225      0.817512\n",
              "3     -0.698635    -0.657945  ...     -0.334131     -0.310779\n",
              "4     -0.185822    -0.693806  ...     -0.334131     -0.310779\n",
              "5     -0.427724    -0.506524  ...     -0.262225     -0.245718\n",
              "6      0.059015     0.068511  ...     -0.334131     -0.050535\n",
              "7     -0.563787    -0.662676  ...     -0.334131     -0.310779\n",
              "8     -0.657175    -0.691596  ...     -0.291765     -0.238226\n",
              "9      1.094429     0.211331  ...     -0.183128     -0.213188\n",
              "\n",
              "[10 rows x 12 columns]"
            ]
          },
          "metadata": {
            "tags": []
          },
          "execution_count": 138
        }
      ]
    },
    {
      "cell_type": "markdown",
      "metadata": {
        "id": "IqTp-TgSHozT",
        "colab_type": "text"
      },
      "source": [
        "Applying PCA on both training and test data set ( on selected columns )"
      ]
    },
    {
      "cell_type": "code",
      "metadata": {
        "id": "5heETU0exUxm",
        "colab_type": "code",
        "colab": {}
      },
      "source": [
        "pca = PCA(.95) #keeping 95% of variance from the original dataset\n",
        "pca.fit(temp) #only to the train set\n",
        "temp = pca.transform(temp)\n",
        "temp2 = pca.transform(temp2)"
      ],
      "execution_count": 0,
      "outputs": []
    },
    {
      "cell_type": "code",
      "metadata": {
        "id": "ZdflJ7v0xU0c",
        "colab_type": "code",
        "colab": {}
      },
      "source": [
        "to_df = pd.DataFrame( data = temp, columns=[\"pca1\",\"pca2\",\"pca3\",\"pca4\",\"pca5\",\"pca6\",\"pca7\"])\n",
        "to_df_test = pd.DataFrame( data = temp2, columns=[\"pca1\",\"pca2\",\"pca3\",\"pca4\",\"pca5\",\"pca6\",\"pca7\"])"
      ],
      "execution_count": 0,
      "outputs": []
    },
    {
      "cell_type": "code",
      "metadata": {
        "id": "9SLsLmtq2zvT",
        "colab_type": "code",
        "colab": {}
      },
      "source": [
        "new_df = pd.concat([begin, to_df], axis=1)\n",
        "new_test_data = pd.concat([test_begin, to_df_test], axis=1)"
      ],
      "execution_count": 0,
      "outputs": []
    },
    {
      "cell_type": "code",
      "metadata": {
        "id": "tdWwGYJjCz8w",
        "colab_type": "code",
        "colab": {
          "base_uri": "https://localhost:8080/",
          "height": 359
        },
        "outputId": "61a7eda3-9e78-4324-843e-9c4c556e3f57"
      },
      "source": [
        "new_test_data.head(10)"
      ],
      "execution_count": 142,
      "outputs": [
        {
          "output_type": "execute_result",
          "data": {
            "text/html": [
              "<div>\n",
              "<style scoped>\n",
              "    .dataframe tbody tr th:only-of-type {\n",
              "        vertical-align: middle;\n",
              "    }\n",
              "\n",
              "    .dataframe tbody tr th {\n",
              "        vertical-align: top;\n",
              "    }\n",
              "\n",
              "    .dataframe thead th {\n",
              "        text-align: right;\n",
              "    }\n",
              "</style>\n",
              "<table border=\"1\" class=\"dataframe\">\n",
              "  <thead>\n",
              "    <tr style=\"text-align: right;\">\n",
              "      <th></th>\n",
              "      <th>Balance_Limit_V1</th>\n",
              "      <th>Gender</th>\n",
              "      <th>EDUCATION_STATUS</th>\n",
              "      <th>MARITAL_STATUS</th>\n",
              "      <th>AGE</th>\n",
              "      <th>PAY_JULY</th>\n",
              "      <th>PAY_AUG</th>\n",
              "      <th>PAY_SEP</th>\n",
              "      <th>PAY_OCT</th>\n",
              "      <th>PAY_NOV</th>\n",
              "      <th>PAY_DEC</th>\n",
              "      <th>pca1</th>\n",
              "      <th>pca2</th>\n",
              "      <th>pca3</th>\n",
              "      <th>pca4</th>\n",
              "      <th>pca5</th>\n",
              "      <th>pca6</th>\n",
              "      <th>pca7</th>\n",
              "    </tr>\n",
              "  </thead>\n",
              "  <tbody>\n",
              "    <tr>\n",
              "      <th>0</th>\n",
              "      <td>500000.0</td>\n",
              "      <td>1</td>\n",
              "      <td>1</td>\n",
              "      <td>2</td>\n",
              "      <td>1</td>\n",
              "      <td>0</td>\n",
              "      <td>0</td>\n",
              "      <td>0</td>\n",
              "      <td>0</td>\n",
              "      <td>0</td>\n",
              "      <td>0</td>\n",
              "      <td>3.300430</td>\n",
              "      <td>1.839985</td>\n",
              "      <td>1.539784</td>\n",
              "      <td>-1.382432</td>\n",
              "      <td>-1.209324</td>\n",
              "      <td>3.365593</td>\n",
              "      <td>0.004730</td>\n",
              "    </tr>\n",
              "    <tr>\n",
              "      <th>1</th>\n",
              "      <td>200000.0</td>\n",
              "      <td>2</td>\n",
              "      <td>1</td>\n",
              "      <td>2</td>\n",
              "      <td>1</td>\n",
              "      <td>0</td>\n",
              "      <td>0</td>\n",
              "      <td>0</td>\n",
              "      <td>0</td>\n",
              "      <td>0</td>\n",
              "      <td>0</td>\n",
              "      <td>-0.257688</td>\n",
              "      <td>-0.429331</td>\n",
              "      <td>0.048548</td>\n",
              "      <td>-0.070189</td>\n",
              "      <td>-0.037592</td>\n",
              "      <td>0.037578</td>\n",
              "      <td>0.036935</td>\n",
              "    </tr>\n",
              "    <tr>\n",
              "      <th>2</th>\n",
              "      <td>400000.0</td>\n",
              "      <td>1</td>\n",
              "      <td>1</td>\n",
              "      <td>1</td>\n",
              "      <td>2</td>\n",
              "      <td>-1</td>\n",
              "      <td>-1</td>\n",
              "      <td>2</td>\n",
              "      <td>0</td>\n",
              "      <td>0</td>\n",
              "      <td>-1</td>\n",
              "      <td>-1.548812</td>\n",
              "      <td>0.185950</td>\n",
              "      <td>-0.431524</td>\n",
              "      <td>0.780763</td>\n",
              "      <td>-0.371296</td>\n",
              "      <td>0.122458</td>\n",
              "      <td>0.027763</td>\n",
              "    </tr>\n",
              "    <tr>\n",
              "      <th>3</th>\n",
              "      <td>1500000.0</td>\n",
              "      <td>1</td>\n",
              "      <td>2</td>\n",
              "      <td>2</td>\n",
              "      <td>1</td>\n",
              "      <td>1</td>\n",
              "      <td>-1</td>\n",
              "      <td>-1</td>\n",
              "      <td>-2</td>\n",
              "      <td>-2</td>\n",
              "      <td>-2</td>\n",
              "      <td>-1.751891</td>\n",
              "      <td>-0.136837</td>\n",
              "      <td>0.138061</td>\n",
              "      <td>0.037236</td>\n",
              "      <td>0.121950</td>\n",
              "      <td>-0.042778</td>\n",
              "      <td>-0.027930</td>\n",
              "    </tr>\n",
              "    <tr>\n",
              "      <th>4</th>\n",
              "      <td>100000.0</td>\n",
              "      <td>2</td>\n",
              "      <td>3</td>\n",
              "      <td>1</td>\n",
              "      <td>2</td>\n",
              "      <td>0</td>\n",
              "      <td>0</td>\n",
              "      <td>-2</td>\n",
              "      <td>-2</td>\n",
              "      <td>-2</td>\n",
              "      <td>-2</td>\n",
              "      <td>-1.627346</td>\n",
              "      <td>-0.363417</td>\n",
              "      <td>0.047380</td>\n",
              "      <td>-0.000381</td>\n",
              "      <td>-0.034428</td>\n",
              "      <td>0.049697</td>\n",
              "      <td>0.005039</td>\n",
              "    </tr>\n",
              "    <tr>\n",
              "      <th>5</th>\n",
              "      <td>100000.0</td>\n",
              "      <td>2</td>\n",
              "      <td>1</td>\n",
              "      <td>1</td>\n",
              "      <td>2</td>\n",
              "      <td>0</td>\n",
              "      <td>0</td>\n",
              "      <td>0</td>\n",
              "      <td>0</td>\n",
              "      <td>0</td>\n",
              "      <td>0</td>\n",
              "      <td>-1.284953</td>\n",
              "      <td>-0.241930</td>\n",
              "      <td>0.065205</td>\n",
              "      <td>0.002893</td>\n",
              "      <td>0.020839</td>\n",
              "      <td>0.017034</td>\n",
              "      <td>-0.035301</td>\n",
              "    </tr>\n",
              "    <tr>\n",
              "      <th>6</th>\n",
              "      <td>200000.0</td>\n",
              "      <td>2</td>\n",
              "      <td>3</td>\n",
              "      <td>1</td>\n",
              "      <td>2</td>\n",
              "      <td>2</td>\n",
              "      <td>2</td>\n",
              "      <td>2</td>\n",
              "      <td>2</td>\n",
              "      <td>2</td>\n",
              "      <td>2</td>\n",
              "      <td>0.176481</td>\n",
              "      <td>-0.497556</td>\n",
              "      <td>0.121053</td>\n",
              "      <td>0.101240</td>\n",
              "      <td>-0.081434</td>\n",
              "      <td>-0.097319</td>\n",
              "      <td>0.183058</td>\n",
              "    </tr>\n",
              "    <tr>\n",
              "      <th>7</th>\n",
              "      <td>500000.0</td>\n",
              "      <td>1</td>\n",
              "      <td>1</td>\n",
              "      <td>2</td>\n",
              "      <td>1</td>\n",
              "      <td>0</td>\n",
              "      <td>0</td>\n",
              "      <td>0</td>\n",
              "      <td>-2</td>\n",
              "      <td>-2</td>\n",
              "      <td>-2</td>\n",
              "      <td>-1.749166</td>\n",
              "      <td>-0.270952</td>\n",
              "      <td>0.084869</td>\n",
              "      <td>0.004860</td>\n",
              "      <td>0.001787</td>\n",
              "      <td>0.026112</td>\n",
              "      <td>-0.049388</td>\n",
              "    </tr>\n",
              "    <tr>\n",
              "      <th>8</th>\n",
              "      <td>500000.0</td>\n",
              "      <td>1</td>\n",
              "      <td>1</td>\n",
              "      <td>1</td>\n",
              "      <td>2</td>\n",
              "      <td>-1</td>\n",
              "      <td>-1</td>\n",
              "      <td>-1</td>\n",
              "      <td>-1</td>\n",
              "      <td>-1</td>\n",
              "      <td>-1</td>\n",
              "      <td>-1.737734</td>\n",
              "      <td>-0.146098</td>\n",
              "      <td>0.054702</td>\n",
              "      <td>-0.001280</td>\n",
              "      <td>0.021346</td>\n",
              "      <td>0.051784</td>\n",
              "      <td>0.086268</td>\n",
              "    </tr>\n",
              "    <tr>\n",
              "      <th>9</th>\n",
              "      <td>400000.0</td>\n",
              "      <td>2</td>\n",
              "      <td>1</td>\n",
              "      <td>2</td>\n",
              "      <td>3</td>\n",
              "      <td>0</td>\n",
              "      <td>0</td>\n",
              "      <td>0</td>\n",
              "      <td>0</td>\n",
              "      <td>0</td>\n",
              "      <td>0</td>\n",
              "      <td>0.645246</td>\n",
              "      <td>-0.710405</td>\n",
              "      <td>0.043975</td>\n",
              "      <td>0.007891</td>\n",
              "      <td>-0.032583</td>\n",
              "      <td>0.021387</td>\n",
              "      <td>-0.029208</td>\n",
              "    </tr>\n",
              "  </tbody>\n",
              "</table>\n",
              "</div>"
            ],
            "text/plain": [
              "   Balance_Limit_V1  Gender  EDUCATION_STATUS  ...      pca5      pca6      pca7\n",
              "0          500000.0       1                 1  ... -1.209324  3.365593  0.004730\n",
              "1          200000.0       2                 1  ... -0.037592  0.037578  0.036935\n",
              "2          400000.0       1                 1  ... -0.371296  0.122458  0.027763\n",
              "3         1500000.0       1                 2  ...  0.121950 -0.042778 -0.027930\n",
              "4          100000.0       2                 3  ... -0.034428  0.049697  0.005039\n",
              "5          100000.0       2                 1  ...  0.020839  0.017034 -0.035301\n",
              "6          200000.0       2                 3  ... -0.081434 -0.097319  0.183058\n",
              "7          500000.0       1                 1  ...  0.001787  0.026112 -0.049388\n",
              "8          500000.0       1                 1  ...  0.021346  0.051784  0.086268\n",
              "9          400000.0       2                 1  ... -0.032583  0.021387 -0.029208\n",
              "\n",
              "[10 rows x 18 columns]"
            ]
          },
          "metadata": {
            "tags": []
          },
          "execution_count": 142
        }
      ]
    },
    {
      "cell_type": "markdown",
      "metadata": {
        "id": "SiwgFURTH_D5",
        "colab_type": "text"
      },
      "source": [
        "**Co-relation matrix after PCA**"
      ]
    },
    {
      "cell_type": "code",
      "metadata": {
        "id": "MUzusJlu4LQC",
        "colab_type": "code",
        "colab": {
          "base_uri": "https://localhost:8080/",
          "height": 640
        },
        "outputId": "da32aed9-7f13-4f34-a5ff-4ff4c35f1aa2"
      },
      "source": [
        "correlations = correlation_heatmap(new_df)"
      ],
      "execution_count": 101,
      "outputs": [
        {
          "output_type": "display_data",
          "data": {
            "image/png": "[encoded data removed]",
            "text/plain": [
              "<Figure size 720x720 with 2 Axes>"
            ]
          },
          "metadata": {
            "tags": []
          }
        }
      ]
    },
    {
      "cell_type": "code",
      "metadata": {
        "id": "Ik36eD8ybk-N",
        "colab_type": "code",
        "colab": {}
      },
      "source": [
        "#training data\n",
        "x1 = data.iloc[:,:-1]\n",
        "x1_norm = data.iloc[:,:-1]\n",
        "y1 = data[\"NEXT_MONTH_DEFAULT\"]\n",
        "X_train_ori = df.iloc[:, :-1]\n"
      ],
      "execution_count": 0,
      "outputs": []
    },
    {
      "cell_type": "code",
      "metadata": {
        "id": "TLcKjyGsTecD",
        "colab_type": "code",
        "colab": {}
      },
      "source": [
        "x2 = new_df.copy()"
      ],
      "execution_count": 0,
      "outputs": []
    },
    {
      "cell_type": "markdown",
      "metadata": {
        "id": "QGE3jYIxPojW",
        "colab_type": "text"
      },
      "source": [
        "**Dividing the dataset into train and test sets.**"
      ]
    },
    {
      "cell_type": "code",
      "metadata": {
        "id": "VT3CXE4deSW_",
        "colab_type": "code",
        "colab": {}
      },
      "source": [
        "X_train, X_test, y_train, y_test = train_test_split(\n",
        "...     x1, y1, test_size=0.2, random_state=42)"
      ],
      "execution_count": 0,
      "outputs": []
    },
    {
      "cell_type": "code",
      "metadata": {
        "id": "RfOtc0PQ5V4k",
        "colab_type": "code",
        "colab": {}
      },
      "source": [
        "X2_train, X2_test, y2_train, y2_test = train_test_split(\n",
        "...     x2, y1, test_size=0.2, random_state=42)"
      ],
      "execution_count": 0,
      "outputs": []
    },
    {
      "cell_type": "code",
      "metadata": {
        "id": "JhBr-aTEFV_o",
        "colab_type": "code",
        "colab": {
          "base_uri": "https://localhost:8080/",
          "height": 359
        },
        "outputId": "2f3db096-8c83-4783-c800-da758af4b311"
      },
      "source": [
        "x2.head(10)"
      ],
      "execution_count": 155,
      "outputs": [
        {
          "output_type": "execute_result",
          "data": {
            "text/html": [
              "<div>\n",
              "<style scoped>\n",
              "    .dataframe tbody tr th:only-of-type {\n",
              "        vertical-align: middle;\n",
              "    }\n",
              "\n",
              "    .dataframe tbody tr th {\n",
              "        vertical-align: top;\n",
              "    }\n",
              "\n",
              "    .dataframe thead th {\n",
              "        text-align: right;\n",
              "    }\n",
              "</style>\n",
              "<table border=\"1\" class=\"dataframe\">\n",
              "  <thead>\n",
              "    <tr style=\"text-align: right;\">\n",
              "      <th></th>\n",
              "      <th>Balance_Limit_V1</th>\n",
              "      <th>Gender</th>\n",
              "      <th>EDUCATION_STATUS</th>\n",
              "      <th>MARITAL_STATUS</th>\n",
              "      <th>AGE</th>\n",
              "      <th>PAY_JULY</th>\n",
              "      <th>PAY_AUG</th>\n",
              "      <th>PAY_SEP</th>\n",
              "      <th>PAY_OCT</th>\n",
              "      <th>PAY_NOV</th>\n",
              "      <th>PAY_DEC</th>\n",
              "      <th>pca1</th>\n",
              "      <th>pca2</th>\n",
              "      <th>pca3</th>\n",
              "      <th>pca4</th>\n",
              "      <th>pca5</th>\n",
              "      <th>pca6</th>\n",
              "      <th>pca7</th>\n",
              "    </tr>\n",
              "  </thead>\n",
              "  <tbody>\n",
              "    <tr>\n",
              "      <th>0</th>\n",
              "      <td>1000000.0</td>\n",
              "      <td>1</td>\n",
              "      <td>2</td>\n",
              "      <td>1</td>\n",
              "      <td>1</td>\n",
              "      <td>-1</td>\n",
              "      <td>-1</td>\n",
              "      <td>-1</td>\n",
              "      <td>-1</td>\n",
              "      <td>-1</td>\n",
              "      <td>-1</td>\n",
              "      <td>0.718616</td>\n",
              "      <td>5.872134</td>\n",
              "      <td>-4.433843</td>\n",
              "      <td>7.090995</td>\n",
              "      <td>-7.772757</td>\n",
              "      <td>-0.074055</td>\n",
              "      <td>2.778702</td>\n",
              "    </tr>\n",
              "    <tr>\n",
              "      <th>1</th>\n",
              "      <td>1000000.0</td>\n",
              "      <td>2</td>\n",
              "      <td>3</td>\n",
              "      <td>1</td>\n",
              "      <td>2</td>\n",
              "      <td>0</td>\n",
              "      <td>-1</td>\n",
              "      <td>-1</td>\n",
              "      <td>-1</td>\n",
              "      <td>-1</td>\n",
              "      <td>0</td>\n",
              "      <td>1.189971</td>\n",
              "      <td>2.689256</td>\n",
              "      <td>1.442336</td>\n",
              "      <td>0.634521</td>\n",
              "      <td>-0.646769</td>\n",
              "      <td>-1.272628</td>\n",
              "      <td>-1.922675</td>\n",
              "    </tr>\n",
              "    <tr>\n",
              "      <th>2</th>\n",
              "      <td>100000.0</td>\n",
              "      <td>2</td>\n",
              "      <td>3</td>\n",
              "      <td>2</td>\n",
              "      <td>1</td>\n",
              "      <td>4</td>\n",
              "      <td>3</td>\n",
              "      <td>2</td>\n",
              "      <td>2</td>\n",
              "      <td>-2</td>\n",
              "      <td>-2</td>\n",
              "      <td>-1.680247</td>\n",
              "      <td>-0.250978</td>\n",
              "      <td>0.058951</td>\n",
              "      <td>0.014350</td>\n",
              "      <td>0.064638</td>\n",
              "      <td>0.003295</td>\n",
              "      <td>0.041670</td>\n",
              "    </tr>\n",
              "    <tr>\n",
              "      <th>3</th>\n",
              "      <td>200000.0</td>\n",
              "      <td>2</td>\n",
              "      <td>2</td>\n",
              "      <td>2</td>\n",
              "      <td>1</td>\n",
              "      <td>2</td>\n",
              "      <td>0</td>\n",
              "      <td>0</td>\n",
              "      <td>0</td>\n",
              "      <td>0</td>\n",
              "      <td>0</td>\n",
              "      <td>-0.244919</td>\n",
              "      <td>-0.412492</td>\n",
              "      <td>0.069369</td>\n",
              "      <td>-0.064818</td>\n",
              "      <td>0.013898</td>\n",
              "      <td>0.015755</td>\n",
              "      <td>0.064991</td>\n",
              "    </tr>\n",
              "    <tr>\n",
              "      <th>4</th>\n",
              "      <td>1000000.0</td>\n",
              "      <td>2</td>\n",
              "      <td>2</td>\n",
              "      <td>1</td>\n",
              "      <td>1</td>\n",
              "      <td>2</td>\n",
              "      <td>2</td>\n",
              "      <td>0</td>\n",
              "      <td>0</td>\n",
              "      <td>0</td>\n",
              "      <td>0</td>\n",
              "      <td>5.111702</td>\n",
              "      <td>-1.362791</td>\n",
              "      <td>-0.010101</td>\n",
              "      <td>-0.308244</td>\n",
              "      <td>-0.143795</td>\n",
              "      <td>0.144120</td>\n",
              "      <td>0.482758</td>\n",
              "    </tr>\n",
              "    <tr>\n",
              "      <th>5</th>\n",
              "      <td>400000.0</td>\n",
              "      <td>2</td>\n",
              "      <td>2</td>\n",
              "      <td>2</td>\n",
              "      <td>1</td>\n",
              "      <td>0</td>\n",
              "      <td>0</td>\n",
              "      <td>0</td>\n",
              "      <td>0</td>\n",
              "      <td>0</td>\n",
              "      <td>0</td>\n",
              "      <td>3.955734</td>\n",
              "      <td>-1.008855</td>\n",
              "      <td>0.100291</td>\n",
              "      <td>-0.121972</td>\n",
              "      <td>0.046017</td>\n",
              "      <td>-0.033112</td>\n",
              "      <td>0.092273</td>\n",
              "    </tr>\n",
              "    <tr>\n",
              "      <th>6</th>\n",
              "      <td>100000.0</td>\n",
              "      <td>1</td>\n",
              "      <td>1</td>\n",
              "      <td>2</td>\n",
              "      <td>2</td>\n",
              "      <td>1</td>\n",
              "      <td>2</td>\n",
              "      <td>2</td>\n",
              "      <td>2</td>\n",
              "      <td>2</td>\n",
              "      <td>2</td>\n",
              "      <td>-1.610260</td>\n",
              "      <td>-0.201215</td>\n",
              "      <td>0.064815</td>\n",
              "      <td>-0.038949</td>\n",
              "      <td>0.073930</td>\n",
              "      <td>-0.009111</td>\n",
              "      <td>0.090187</td>\n",
              "    </tr>\n",
              "    <tr>\n",
              "      <th>7</th>\n",
              "      <td>100000.0</td>\n",
              "      <td>2</td>\n",
              "      <td>3</td>\n",
              "      <td>1</td>\n",
              "      <td>2</td>\n",
              "      <td>2</td>\n",
              "      <td>2</td>\n",
              "      <td>2</td>\n",
              "      <td>0</td>\n",
              "      <td>0</td>\n",
              "      <td>2</td>\n",
              "      <td>-0.892582</td>\n",
              "      <td>-0.305896</td>\n",
              "      <td>0.141675</td>\n",
              "      <td>-0.002469</td>\n",
              "      <td>-0.026384</td>\n",
              "      <td>-0.027408</td>\n",
              "      <td>-0.008171</td>\n",
              "    </tr>\n",
              "    <tr>\n",
              "      <th>8</th>\n",
              "      <td>500000.0</td>\n",
              "      <td>1</td>\n",
              "      <td>1</td>\n",
              "      <td>1</td>\n",
              "      <td>1</td>\n",
              "      <td>0</td>\n",
              "      <td>0</td>\n",
              "      <td>0</td>\n",
              "      <td>2</td>\n",
              "      <td>0</td>\n",
              "      <td>0</td>\n",
              "      <td>1.589034</td>\n",
              "      <td>-0.650576</td>\n",
              "      <td>-0.067300</td>\n",
              "      <td>-0.037479</td>\n",
              "      <td>0.124380</td>\n",
              "      <td>-0.155966</td>\n",
              "      <td>0.164655</td>\n",
              "    </tr>\n",
              "    <tr>\n",
              "      <th>9</th>\n",
              "      <td>1000000.0</td>\n",
              "      <td>1</td>\n",
              "      <td>1</td>\n",
              "      <td>2</td>\n",
              "      <td>3</td>\n",
              "      <td>0</td>\n",
              "      <td>0</td>\n",
              "      <td>2</td>\n",
              "      <td>0</td>\n",
              "      <td>0</td>\n",
              "      <td>0</td>\n",
              "      <td>2.164549</td>\n",
              "      <td>-0.757014</td>\n",
              "      <td>0.160891</td>\n",
              "      <td>0.072766</td>\n",
              "      <td>0.052244</td>\n",
              "      <td>-0.136282</td>\n",
              "      <td>-0.358823</td>\n",
              "    </tr>\n",
              "  </tbody>\n",
              "</table>\n",
              "</div>"
            ],
            "text/plain": [
              "   Balance_Limit_V1  Gender  EDUCATION_STATUS  ...      pca5      pca6      pca7\n",
              "0         1000000.0       1                 2  ... -7.772757 -0.074055  2.778702\n",
              "1         1000000.0       2                 3  ... -0.646769 -1.272628 -1.922675\n",
              "2          100000.0       2                 3  ...  0.064638  0.003295  0.041670\n",
              "3          200000.0       2                 2  ...  0.013898  0.015755  0.064991\n",
              "4         1000000.0       2                 2  ... -0.143795  0.144120  0.482758\n",
              "5          400000.0       2                 2  ...  0.046017 -0.033112  0.092273\n",
              "6          100000.0       1                 1  ...  0.073930 -0.009111  0.090187\n",
              "7          100000.0       2                 3  ... -0.026384 -0.027408 -0.008171\n",
              "8          500000.0       1                 1  ...  0.124380 -0.155966  0.164655\n",
              "9         1000000.0       1                 1  ...  0.052244 -0.136282 -0.358823\n",
              "\n",
              "[10 rows x 18 columns]"
            ]
          },
          "metadata": {
            "tags": []
          },
          "execution_count": 155
        }
      ]
    },
    {
      "cell_type": "markdown",
      "metadata": {
        "id": "v6fAHbeNBURy",
        "colab_type": "text"
      },
      "source": [
        "**Testing Out Balanced Bagging Classifier with Random forest and PCA**"
      ]
    },
    {
      "cell_type": "markdown",
      "metadata": {
        "id": "QqHUL-yeB69K",
        "colab_type": "text"
      },
      "source": [
        "**Utils**"
      ]
    },
    {
      "cell_type": "code",
      "metadata": {
        "id": "TaCaZ9yKY1Kn",
        "colab_type": "code",
        "colab": {}
      },
      "source": [
        "def get_feature_importance(clsf, ftrs):\n",
        "    imp = clsf.feature_importances_.tolist()\n",
        "    feat = ftrs\n",
        "    result = pd.DataFrame({'feature':feat,'score':imp})\n",
        "    result = result.sort_values(by=['score'],ascending=False)\n",
        "    return result"
      ],
      "execution_count": 0,
      "outputs": []
    },
    {
      "cell_type": "code",
      "metadata": {
        "id": "JdaGGLEfoXrT",
        "colab_type": "code",
        "colab": {}
      },
      "source": [
        "def classification( classifier , X_train, X_test, Y_train, Y_test):\n",
        "    classifier.fit(X_train, Y_train)\n",
        "    y_pred = classifier.predict(X_test)\n",
        "    score  = classifier.score(X_test,Y_test)\n",
        "    report = classification_report(Y_test, y_pred)\n",
        "    cm     = confusion_matrix(Y_test, y_pred)\n",
        "    return score, report, cm"
      ],
      "execution_count": 0,
      "outputs": []
    },
    {
      "cell_type": "code",
      "metadata": {
        "id": "fIkPiCZ6OtS0",
        "colab_type": "code",
        "colab": {}
      },
      "source": [
        "def Submission( classifier , X_train, X_test, Y_train):\n",
        "    classifier.fit(X_train, Y_train)\n",
        "    y_pred = classifier.predict(X_test)\n",
        "    output = pd.DataFrame( data = {'Client_ID': test_data['Client_ID'], 'NEXT_MONTH_DEFAULT': y_pred})\n",
        "    return output"
      ],
      "execution_count": 0,
      "outputs": []
    },
    {
      "cell_type": "markdown",
      "metadata": {
        "id": "tU3I_ure0r0R",
        "colab_type": "text"
      },
      "source": [
        "**RandomizedSearchCV for optimal Parameters**"
      ]
    },
    {
      "cell_type": "code",
      "metadata": {
        "id": "njJm0cKM0HW2",
        "colab_type": "code",
        "colab": {}
      },
      "source": [
        "# Number of trees in random forest\n",
        "n_estimators = [int(x) for x in np.linspace(start = 10, stop = 200, num = 10)]\n",
        "# Number of features to consider at every split\n",
        "max_features = ['auto', 'sqrt', 'log2']\n",
        "# Maximum number of levels in tree\n",
        "max_depth = [int(x) for x in np.linspace(2, 30, num = 15)]\n",
        "max_depth.append(None)\n",
        "# Minimum number of samples required at each leaf node\n",
        "min_samples_leaf = [int(x) for x in np.linspace(2, 50, num = 25)]\n",
        "# Minimum number of samples to split an internal node\n",
        "min_samples_split = [int(x) for x in np.linspace(2, 100, num = 50)]\n",
        "skf = StratifiedKFold(n_splits = 5, shuffle=True, random_state=268)\n",
        "# Create the random grid\n",
        "random_grid = {'n_estimators': n_estimators,\n",
        "               'max_features': max_features,\n",
        "               'max_depth': max_depth,\n",
        "               'min_samples_leaf': min_samples_leaf,\n",
        "               'min_samples_split' : min_samples_split,\n",
        "               'n_jobs' : [-1],\n",
        "               'random_state' : [42]}"
      ],
      "execution_count": 0,
      "outputs": []
    },
    {
      "cell_type": "code",
      "metadata": {
        "colab_type": "code",
        "id": "M6B94TAsCrWL",
        "colab": {}
      },
      "source": [
        "grid_forest = RandomizedSearchCV(estimator = RandomForestClassifier(), param_distributions = random_grid, \n",
        "                               n_iter = 50, cv = skf, random_state=42, n_jobs = -1,\n",
        "                                scoring = 'accuracy')"
      ],
      "execution_count": 0,
      "outputs": []
    },
    {
      "cell_type": "code",
      "metadata": {
        "id": "P770c5fX1k3_",
        "colab_type": "code",
        "colab": {
          "base_uri": "https://localhost:8080/",
          "height": 187
        },
        "outputId": "d28febb0-2ffe-4e3d-fdc1-cf06ffeda5f5"
      },
      "source": [
        "grid_forest.fit(X2_train, y2_train)\n",
        "\n",
        "#let's see the best estimator\n",
        "best_forest = grid_forest.best_estimator_\n",
        "print(best_forest)\n",
        "print(\"_\"*40)\n",
        "#with its score\n",
        "print(\"Cross-validated best score {}%\".format(round(grid_forest.best_score_ * 100,3)))\n",
        "#score on test\n",
        "predictions = best_forest.predict(X_test)"
      ],
      "execution_count": 118,
      "outputs": [
        {
          "output_type": "stream",
          "text": [
            "RandomForestClassifier(bootstrap=True, ccp_alpha=0.0, class_weight=None,\n",
            "                       criterion='gini', max_depth=16, max_features='auto',\n",
            "                       max_leaf_nodes=None, max_samples=None,\n",
            "                       min_impurity_decrease=0.0, min_impurity_split=None,\n",
            "                       min_samples_leaf=46, min_samples_split=8,\n",
            "                       min_weight_fraction_leaf=0.0, n_estimators=178,\n",
            "                       n_jobs=-1, oob_score=False, random_state=42, verbose=0,\n",
            "                       warm_start=False)\n",
            "________________________________________\n",
            "Cross-validated best score 81.917%\n"
          ],
          "name": "stdout"
        }
      ]
    },
    {
      "cell_type": "markdown",
      "metadata": {
        "colab_type": "text",
        "id": "gqNn7wt1_vyJ"
      },
      "source": [
        "Different Classifiers"
      ]
    },
    {
      "cell_type": "code",
      "metadata": {
        "id": "m1qmGrpM2EW9",
        "colab_type": "code",
        "colab": {}
      },
      "source": [
        "RF = RandomForestClassifier(bootstrap=True, ccp_alpha=0.0, class_weight=None,\n",
        "                       criterion='gini', max_depth=6, max_features='log2',\n",
        "                       max_leaf_nodes=None, max_samples=None,\n",
        "                       min_impurity_decrease=0.0, min_impurity_split=None,\n",
        "                       min_samples_leaf=14, min_samples_split=72,\n",
        "                       min_weight_fraction_leaf=0.0, n_estimators=115,\n",
        "                       n_jobs=-1, oob_score=False, random_state=42, verbose=0,\n",
        "                       warm_start=False) #from RandomizedSearch"
      ],
      "execution_count": 0,
      "outputs": []
    },
    {
      "cell_type": "code",
      "metadata": {
        "id": "J9H0Btwv_ztf",
        "colab_type": "code",
        "colab": {}
      },
      "source": [
        "RF2 = RandomForestClassifier(bootstrap=True, ccp_alpha=0.0, class_weight=None,\n",
        "                       criterion='gini', max_depth=16, max_features='auto',\n",
        "                       max_leaf_nodes=None, max_samples=None,\n",
        "                       min_impurity_decrease=0.0, min_impurity_split=None,\n",
        "                       min_samples_leaf=46, min_samples_split=8,\n",
        "                       min_weight_fraction_leaf=0.0, n_estimators=178,\n",
        "                       n_jobs=-1, oob_score=False, random_state=42, verbose=0,\n",
        "                       warm_start=False)"
      ],
      "execution_count": 0,
      "outputs": []
    },
    {
      "cell_type": "code",
      "metadata": {
        "id": "vNXmSlcDiE3-",
        "colab_type": "code",
        "colab": {}
      },
      "source": [
        "XGB  = xgb.XGBClassifier(base_score=0.5, booster='gbtree', colsample_bylevel=1,\n",
        "       colsample_bytree=1, gamma=0, learning_rate=0.05, max_delta_step=0,\n",
        "       max_depth=3, min_child_weight=1, missing=None, n_estimators=381,\n",
        "       n_jobs=-1, nthread=None, objective='binary:logistic',\n",
        "       random_state=0, reg_alpha=0, reg_lambda=1, scale_pos_weight=1,\n",
        "       seed=None, silent=True, subsample=1)\n"
      ],
      "execution_count": 0,
      "outputs": []
    },
    {
      "cell_type": "code",
      "metadata": {
        "id": "Eu4nwwWqkt4Y",
        "colab_type": "code",
        "colab": {}
      },
      "source": [
        "DT = DecisionTreeClassifier()"
      ],
      "execution_count": 0,
      "outputs": []
    },
    {
      "cell_type": "code",
      "metadata": {
        "id": "iqutmdeLliCa",
        "colab_type": "code",
        "colab": {}
      },
      "source": [
        "BBC = BalancedBaggingClassifier( base_estimator = RF2 , random_state=0 )"
      ],
      "execution_count": 0,
      "outputs": []
    },
    {
      "cell_type": "code",
      "metadata": {
        "colab_type": "code",
        "id": "A_nu3X2oC1RT",
        "colab": {}
      },
      "source": [
        "score , report, cm = classification( BBC , X2_train, X2_test, y2_train, y2_test)"
      ],
      "execution_count": 0,
      "outputs": []
    },
    {
      "cell_type": "code",
      "metadata": {
        "id": "-CUxNdtoDRBe",
        "colab_type": "code",
        "outputId": "ea4a60c1-e4c4-4f62-aafc-93e7b0e9600c",
        "colab": {
          "base_uri": "https://localhost:8080/",
          "height": 170
        }
      },
      "source": [
        "print(report) #old bbc"
      ],
      "execution_count": 0,
      "outputs": [
        {
          "output_type": "stream",
          "text": [
            "              precision    recall  f1-score   support\n",
            "\n",
            "           0       0.89      0.82      0.85      3745\n",
            "           1       0.50      0.64      0.56      1055\n",
            "\n",
            "    accuracy                           0.78      4800\n",
            "   macro avg       0.70      0.73      0.71      4800\n",
            "weighted avg       0.80      0.78      0.79      4800\n",
            "\n"
          ],
          "name": "stdout"
        }
      ]
    },
    {
      "cell_type": "code",
      "metadata": {
        "id": "4s2ZNA0g51cu",
        "colab_type": "code",
        "colab": {
          "base_uri": "https://localhost:8080/",
          "height": 170
        },
        "outputId": "e22301f8-620d-41a5-c960-433b8878a724"
      },
      "source": [
        "print(report) # bbc with rf2 after pca"
      ],
      "execution_count": 152,
      "outputs": [
        {
          "output_type": "stream",
          "text": [
            "              precision    recall  f1-score   support\n",
            "\n",
            "           0       0.89      0.82      0.85      3745\n",
            "           1       0.50      0.65      0.57      1055\n",
            "\n",
            "    accuracy                           0.78      4800\n",
            "   macro avg       0.70      0.73      0.71      4800\n",
            "weighted avg       0.81      0.78      0.79      4800\n",
            "\n"
          ],
          "name": "stdout"
        }
      ]
    },
    {
      "cell_type": "code",
      "metadata": {
        "id": "AgQpTNze_5qG",
        "colab_type": "code",
        "colab": {
          "base_uri": "https://localhost:8080/",
          "height": 170
        },
        "outputId": "ebd7d49c-5b57-47bd-c80b-15ffd5112cd5"
      },
      "source": [
        "print(report) # bbc with rf after pca"
      ],
      "execution_count": 147,
      "outputs": [
        {
          "output_type": "stream",
          "text": [
            "              precision    recall  f1-score   support\n",
            "\n",
            "           0       0.89      0.83      0.86      3745\n",
            "           1       0.51      0.63      0.57      1055\n",
            "\n",
            "    accuracy                           0.79      4800\n",
            "   macro avg       0.70      0.73      0.71      4800\n",
            "weighted avg       0.81      0.79      0.79      4800\n",
            "\n"
          ],
          "name": "stdout"
        }
      ]
    },
    {
      "cell_type": "code",
      "metadata": {
        "id": "C8WELLi9DgRR",
        "colab_type": "code",
        "outputId": "7a3a1e58-9d9d-46c3-9c9a-d7ce06a05d04",
        "colab": {
          "base_uri": "https://localhost:8080/",
          "height": 51
        }
      },
      "source": [
        "cm"
      ],
      "execution_count": 0,
      "outputs": [
        {
          "output_type": "execute_result",
          "data": {
            "text/plain": [
              "array([[3082,  663],\n",
              "       [ 385,  670]])"
            ]
          },
          "metadata": {
            "tags": []
          },
          "execution_count": 194
        }
      ]
    },
    {
      "cell_type": "code",
      "metadata": {
        "id": "5SRFl6g458Us",
        "colab_type": "code",
        "colab": {
          "base_uri": "https://localhost:8080/",
          "height": 51
        },
        "outputId": "0047a4b2-4a40-4c43-b505-8dd8076fad31"
      },
      "source": [
        "cm #rf2"
      ],
      "execution_count": 153,
      "outputs": [
        {
          "output_type": "execute_result",
          "data": {
            "text/plain": [
              "array([[3071,  674],\n",
              "       [ 374,  681]])"
            ]
          },
          "metadata": {
            "tags": []
          },
          "execution_count": 153
        }
      ]
    },
    {
      "cell_type": "code",
      "metadata": {
        "id": "Xfrhy31rACb-",
        "colab_type": "code",
        "colab": {
          "base_uri": "https://localhost:8080/",
          "height": 51
        },
        "outputId": "aaf022aa-884a-4c15-c3ca-826d1faa6c4e"
      },
      "source": [
        "cm #rf"
      ],
      "execution_count": 149,
      "outputs": [
        {
          "output_type": "execute_result",
          "data": {
            "text/plain": [
              "array([[3115,  630],\n",
              "       [ 391,  664]])"
            ]
          },
          "metadata": {
            "tags": []
          },
          "execution_count": 149
        }
      ]
    },
    {
      "cell_type": "code",
      "metadata": {
        "id": "08vYKZ6JSVLP",
        "colab_type": "code",
        "colab": {}
      },
      "source": [
        "output = Submission( BBC, x2,  new_test_data, y1 )"
      ],
      "execution_count": 0,
      "outputs": []
    },
    {
      "cell_type": "code",
      "metadata": {
        "id": "xi1vnqA0Sktq",
        "colab_type": "code",
        "colab": {}
      },
      "source": [
        "output.to_csv(\"/content/Submission3.csv\", index = False, quoting=3)"
      ],
      "execution_count": 0,
      "outputs": []
    }
  ]
}