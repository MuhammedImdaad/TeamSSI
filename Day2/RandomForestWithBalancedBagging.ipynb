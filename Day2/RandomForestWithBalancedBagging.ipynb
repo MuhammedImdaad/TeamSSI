{
  "nbformat": 4,
  "nbformat_minor": 0,
  "metadata": {
    "colab": {
      "name": "Untitled",
      "provenance": [],
      "collapsed_sections": [],
      "toc_visible": true
    },
    "kernelspec": {
      "name": "python3",
      "display_name": "Python 3"
    }
  },
  "cells": [
    {
      "cell_type": "code",
      "metadata": {
        "id": "xNodqSDs9hfL",
        "colab_type": "code",
        "colab": {}
      },
      "source": [
        "import sklearn\n",
        "import numpy as np \n",
        "import pandas as pd\n",
        "from sklearn import preprocessing\n",
        "from imblearn.ensemble import BalancedBaggingClassifier \n",
        "import seaborn as sns\n",
        "import matplotlib.pyplot as plt\n",
        "from sklearn.decomposition import PCA\n",
        "from sklearn.model_selection import train_test_split\n",
        "from sklearn.ensemble import RandomForestClassifier,GradientBoostingClassifier,AdaBoostClassifier\n",
        "from sklearn.svm import SVC\n",
        "from sklearn.metrics import confusion_matrix, f1_score, classification_report\n",
        "import xgboost as xgb\n",
        "from sklearn.model_selection import RandomizedSearchCV\n",
        "from sklearn.model_selection import GridSearchCV, StratifiedKFold\n",
        "import warnings\n",
        "warnings.filterwarnings(\"ignore\")\n"
      ],
      "execution_count": 0,
      "outputs": []
    },
    {
      "cell_type": "markdown",
      "metadata": {
        "id": "CSaos7egXipg",
        "colab_type": "text"
      },
      "source": [
        "**`Loading training data.`**"
      ]
    },
    {
      "cell_type": "code",
      "metadata": {
        "id": "FTP_nzXO9tIa",
        "colab_type": "code",
        "colab": {}
      },
      "source": [
        "df = pd.read_csv(\"/content/credit_card_default_train.csv\")\n",
        "test_data= pd.read_csv(\"/content/credit_card_default_test.csv\")"
      ],
      "execution_count": 0,
      "outputs": []
    },
    {
      "cell_type": "code",
      "metadata": {
        "id": "NeYMW6cfA32G",
        "colab_type": "code",
        "colab": {}
      },
      "source": [
        "df = df.iloc[:,1:]\n",
        "test_data_ = test_data.iloc[:,1:]"
      ],
      "execution_count": 0,
      "outputs": []
    },
    {
      "cell_type": "markdown",
      "metadata": {
        "id": "t1kUK9g7CFi2",
        "colab_type": "text"
      },
      "source": [
        "**Custom Label Encoder**"
      ]
    },
    {
      "cell_type": "code",
      "metadata": {
        "id": "3nizlW8QBXN1",
        "colab_type": "code",
        "colab": {}
      },
      "source": [
        "def encoder(feature, classes):\n",
        "  return classes.index(feature)+1"
      ],
      "execution_count": 0,
      "outputs": []
    },
    {
      "cell_type": "code",
      "metadata": {
        "id": "NYvsQTJ1Fqta",
        "colab_type": "code",
        "colab": {}
      },
      "source": [
        "#training data\n",
        "EDUCATION_STATUS_Classes = list(df['EDUCATION_STATUS'].value_counts().index)\n",
        "MARITAL_STATUS_Classes = list(df['MARITAL_STATUS'].value_counts().index)\n",
        "Gender_Classes = list(df['Gender'].value_counts().index)\n",
        "AGE_Classes = list(df['AGE'].value_counts().index)\n",
        "\n",
        "#test_data\n",
        "EDUCATION_STATUS_Classes = list(test_data_['EDUCATION_STATUS'].value_counts().index)\n",
        "MARITAL_STATUS_Classes = list(test_data_['MARITAL_STATUS'].value_counts().index)\n",
        "Gender_Classes = list(test_data_['Gender'].value_counts().index)\n",
        "AGE_Classes = list(test_data_['AGE'].value_counts().index)"
      ],
      "execution_count": 0,
      "outputs": []
    },
    {
      "cell_type": "code",
      "metadata": {
        "id": "qIOqpD_jBXSY",
        "colab_type": "code",
        "colab": {}
      },
      "source": [
        "#training data\n",
        "df[\"EDUCATION_STATUS\"] = df[\"EDUCATION_STATUS\"].apply(lambda feature: encoder( feature, EDUCATION_STATUS_Classes))\n",
        "df[\"MARITAL_STATUS\"] = df[\"MARITAL_STATUS\"].apply(lambda feature: encoder( feature, MARITAL_STATUS_Classes))\n",
        "df[\"Gender\"] = df[\"Gender\"].apply(lambda feature: encoder( feature, Gender_Classes))\n",
        "df[\"AGE\"] = df[\"AGE\"].apply(lambda feature: encoder( feature, AGE_Classes))\n",
        "#test data\n",
        "test_data_[\"EDUCATION_STATUS\"] = test_data_[\"EDUCATION_STATUS\"].apply(lambda feature: encoder( feature, EDUCATION_STATUS_Classes))\n",
        "test_data_[\"MARITAL_STATUS\"] = test_data_[\"MARITAL_STATUS\"].apply(lambda feature: encoder( feature, MARITAL_STATUS_Classes))\n",
        "test_data_[\"Gender\"] = test_data_[\"Gender\"].apply(lambda feature: encoder( feature, Gender_Classes))\n",
        "test_data_[\"AGE\"] = test_data_[\"AGE\"].apply(lambda feature: encoder( feature, AGE_Classes))"
      ],
      "execution_count": 0,
      "outputs": []
    },
    {
      "cell_type": "code",
      "metadata": {
        "id": "FvF5H4GtSARs",
        "colab_type": "code",
        "outputId": "425b3520-b84a-4016-ae64-9bc3c77cb4ab",
        "colab": {
          "base_uri": "https://localhost:8080/",
          "height": 379
        }
      },
      "source": [
        "df.head(10)"
      ],
      "execution_count": 85,
      "outputs": [
        {
          "output_type": "execute_result",
          "data": {
            "text/html": [
              "<div>\n",
              "<style scoped>\n",
              "    .dataframe tbody tr th:only-of-type {\n",
              "        vertical-align: middle;\n",
              "    }\n",
              "\n",
              "    .dataframe tbody tr th {\n",
              "        vertical-align: top;\n",
              "    }\n",
              "\n",
              "    .dataframe thead th {\n",
              "        text-align: right;\n",
              "    }\n",
              "</style>\n",
              "<table border=\"1\" class=\"dataframe\">\n",
              "  <thead>\n",
              "    <tr style=\"text-align: right;\">\n",
              "      <th></th>\n",
              "      <th>Balance_Limit_V1</th>\n",
              "      <th>Gender</th>\n",
              "      <th>EDUCATION_STATUS</th>\n",
              "      <th>MARITAL_STATUS</th>\n",
              "      <th>AGE</th>\n",
              "      <th>PAY_JULY</th>\n",
              "      <th>PAY_AUG</th>\n",
              "      <th>PAY_SEP</th>\n",
              "      <th>PAY_OCT</th>\n",
              "      <th>PAY_NOV</th>\n",
              "      <th>PAY_DEC</th>\n",
              "      <th>DUE_AMT_JULY</th>\n",
              "      <th>DUE_AMT_AUG</th>\n",
              "      <th>DUE_AMT_SEP</th>\n",
              "      <th>DUE_AMT_OCT</th>\n",
              "      <th>DUE_AMT_NOV</th>\n",
              "      <th>DUE_AMT_DEC</th>\n",
              "      <th>PAID_AMT_JULY</th>\n",
              "      <th>PAID_AMT_AUG</th>\n",
              "      <th>PAID_AMT_SEP</th>\n",
              "      <th>PAID_AMT_OCT</th>\n",
              "      <th>PAID_AMT_NOV</th>\n",
              "      <th>PAID_AMT_DEC</th>\n",
              "      <th>NEXT_MONTH_DEFAULT</th>\n",
              "    </tr>\n",
              "  </thead>\n",
              "  <tbody>\n",
              "    <tr>\n",
              "      <th>0</th>\n",
              "      <td>1M</td>\n",
              "      <td>1</td>\n",
              "      <td>2</td>\n",
              "      <td>1</td>\n",
              "      <td>1</td>\n",
              "      <td>-1</td>\n",
              "      <td>-1</td>\n",
              "      <td>-1</td>\n",
              "      <td>-1</td>\n",
              "      <td>-1</td>\n",
              "      <td>-1</td>\n",
              "      <td>3248</td>\n",
              "      <td>3389</td>\n",
              "      <td>6004</td>\n",
              "      <td>39418</td>\n",
              "      <td>162772</td>\n",
              "      <td>-13982</td>\n",
              "      <td>3437</td>\n",
              "      <td>6004</td>\n",
              "      <td>39418</td>\n",
              "      <td>162772</td>\n",
              "      <td>0</td>\n",
              "      <td>538165</td>\n",
              "      <td>0</td>\n",
              "    </tr>\n",
              "    <tr>\n",
              "      <th>1</th>\n",
              "      <td>1M</td>\n",
              "      <td>2</td>\n",
              "      <td>3</td>\n",
              "      <td>1</td>\n",
              "      <td>2</td>\n",
              "      <td>0</td>\n",
              "      <td>-1</td>\n",
              "      <td>-1</td>\n",
              "      <td>-1</td>\n",
              "      <td>-1</td>\n",
              "      <td>0</td>\n",
              "      <td>353351</td>\n",
              "      <td>151818</td>\n",
              "      <td>26948</td>\n",
              "      <td>43530</td>\n",
              "      <td>80811</td>\n",
              "      <td>124590</td>\n",
              "      <td>151818</td>\n",
              "      <td>46200</td>\n",
              "      <td>43530</td>\n",
              "      <td>80811</td>\n",
              "      <td>942</td>\n",
              "      <td>33666</td>\n",
              "      <td>0</td>\n",
              "    </tr>\n",
              "    <tr>\n",
              "      <th>2</th>\n",
              "      <td>100K</td>\n",
              "      <td>2</td>\n",
              "      <td>3</td>\n",
              "      <td>2</td>\n",
              "      <td>1</td>\n",
              "      <td>4</td>\n",
              "      <td>3</td>\n",
              "      <td>2</td>\n",
              "      <td>2</td>\n",
              "      <td>-2</td>\n",
              "      <td>-2</td>\n",
              "      <td>16681</td>\n",
              "      <td>16082</td>\n",
              "      <td>15477</td>\n",
              "      <td>0</td>\n",
              "      <td>0</td>\n",
              "      <td>0</td>\n",
              "      <td>0</td>\n",
              "      <td>0</td>\n",
              "      <td>0</td>\n",
              "      <td>0</td>\n",
              "      <td>0</td>\n",
              "      <td>0</td>\n",
              "      <td>1</td>\n",
              "    </tr>\n",
              "    <tr>\n",
              "      <th>3</th>\n",
              "      <td>200K</td>\n",
              "      <td>2</td>\n",
              "      <td>2</td>\n",
              "      <td>2</td>\n",
              "      <td>1</td>\n",
              "      <td>2</td>\n",
              "      <td>0</td>\n",
              "      <td>0</td>\n",
              "      <td>0</td>\n",
              "      <td>0</td>\n",
              "      <td>0</td>\n",
              "      <td>90457</td>\n",
              "      <td>92848</td>\n",
              "      <td>95193</td>\n",
              "      <td>97309</td>\n",
              "      <td>100353</td>\n",
              "      <td>102740</td>\n",
              "      <td>3855</td>\n",
              "      <td>3890</td>\n",
              "      <td>3696</td>\n",
              "      <td>4620</td>\n",
              "      <td>4049</td>\n",
              "      <td>3918</td>\n",
              "      <td>1</td>\n",
              "    </tr>\n",
              "    <tr>\n",
              "      <th>4</th>\n",
              "      <td>1M</td>\n",
              "      <td>2</td>\n",
              "      <td>2</td>\n",
              "      <td>1</td>\n",
              "      <td>1</td>\n",
              "      <td>2</td>\n",
              "      <td>2</td>\n",
              "      <td>0</td>\n",
              "      <td>0</td>\n",
              "      <td>0</td>\n",
              "      <td>0</td>\n",
              "      <td>429556</td>\n",
              "      <td>419466</td>\n",
              "      <td>429785</td>\n",
              "      <td>435354</td>\n",
              "      <td>445271</td>\n",
              "      <td>453899</td>\n",
              "      <td>0</td>\n",
              "      <td>20790</td>\n",
              "      <td>16170</td>\n",
              "      <td>17325</td>\n",
              "      <td>16401</td>\n",
              "      <td>17325</td>\n",
              "      <td>0</td>\n",
              "    </tr>\n",
              "    <tr>\n",
              "      <th>5</th>\n",
              "      <td>400K</td>\n",
              "      <td>2</td>\n",
              "      <td>2</td>\n",
              "      <td>2</td>\n",
              "      <td>1</td>\n",
              "      <td>0</td>\n",
              "      <td>0</td>\n",
              "      <td>0</td>\n",
              "      <td>0</td>\n",
              "      <td>0</td>\n",
              "      <td>0</td>\n",
              "      <td>361284</td>\n",
              "      <td>364802</td>\n",
              "      <td>366703</td>\n",
              "      <td>353910</td>\n",
              "      <td>356117</td>\n",
              "      <td>358845</td>\n",
              "      <td>16632</td>\n",
              "      <td>18480</td>\n",
              "      <td>12728</td>\n",
              "      <td>13398</td>\n",
              "      <td>13860</td>\n",
              "      <td>12705</td>\n",
              "      <td>0</td>\n",
              "    </tr>\n",
              "    <tr>\n",
              "      <th>6</th>\n",
              "      <td>100K</td>\n",
              "      <td>1</td>\n",
              "      <td>1</td>\n",
              "      <td>2</td>\n",
              "      <td>2</td>\n",
              "      <td>1</td>\n",
              "      <td>2</td>\n",
              "      <td>2</td>\n",
              "      <td>2</td>\n",
              "      <td>2</td>\n",
              "      <td>2</td>\n",
              "      <td>8991</td>\n",
              "      <td>8515</td>\n",
              "      <td>11698</td>\n",
              "      <td>11173</td>\n",
              "      <td>12030</td>\n",
              "      <td>12647</td>\n",
              "      <td>0</td>\n",
              "      <td>3696</td>\n",
              "      <td>0</td>\n",
              "      <td>1386</td>\n",
              "      <td>1155</td>\n",
              "      <td>0</td>\n",
              "      <td>0</td>\n",
              "    </tr>\n",
              "    <tr>\n",
              "      <th>7</th>\n",
              "      <td>100K</td>\n",
              "      <td>2</td>\n",
              "      <td>3</td>\n",
              "      <td>1</td>\n",
              "      <td>2</td>\n",
              "      <td>2</td>\n",
              "      <td>2</td>\n",
              "      <td>2</td>\n",
              "      <td>0</td>\n",
              "      <td>0</td>\n",
              "      <td>2</td>\n",
              "      <td>51836</td>\n",
              "      <td>55828</td>\n",
              "      <td>54241</td>\n",
              "      <td>55325</td>\n",
              "      <td>59272</td>\n",
              "      <td>57976</td>\n",
              "      <td>5521</td>\n",
              "      <td>0</td>\n",
              "      <td>1984</td>\n",
              "      <td>4844</td>\n",
              "      <td>0</td>\n",
              "      <td>2523</td>\n",
              "      <td>1</td>\n",
              "    </tr>\n",
              "    <tr>\n",
              "      <th>8</th>\n",
              "      <td>500K</td>\n",
              "      <td>1</td>\n",
              "      <td>1</td>\n",
              "      <td>1</td>\n",
              "      <td>1</td>\n",
              "      <td>0</td>\n",
              "      <td>0</td>\n",
              "      <td>0</td>\n",
              "      <td>2</td>\n",
              "      <td>0</td>\n",
              "      <td>0</td>\n",
              "      <td>198579</td>\n",
              "      <td>204634</td>\n",
              "      <td>218092</td>\n",
              "      <td>212970</td>\n",
              "      <td>213654</td>\n",
              "      <td>217992</td>\n",
              "      <td>9240</td>\n",
              "      <td>17325</td>\n",
              "      <td>0</td>\n",
              "      <td>6930</td>\n",
              "      <td>11550</td>\n",
              "      <td>11550</td>\n",
              "      <td>0</td>\n",
              "    </tr>\n",
              "    <tr>\n",
              "      <th>9</th>\n",
              "      <td>1M</td>\n",
              "      <td>1</td>\n",
              "      <td>1</td>\n",
              "      <td>2</td>\n",
              "      <td>3</td>\n",
              "      <td>0</td>\n",
              "      <td>0</td>\n",
              "      <td>2</td>\n",
              "      <td>0</td>\n",
              "      <td>0</td>\n",
              "      <td>0</td>\n",
              "      <td>268551</td>\n",
              "      <td>282726</td>\n",
              "      <td>274123</td>\n",
              "      <td>221148</td>\n",
              "      <td>222936</td>\n",
              "      <td>224276</td>\n",
              "      <td>26565</td>\n",
              "      <td>0</td>\n",
              "      <td>8184</td>\n",
              "      <td>8547</td>\n",
              "      <td>8194</td>\n",
              "      <td>7311</td>\n",
              "      <td>0</td>\n",
              "    </tr>\n",
              "  </tbody>\n",
              "</table>\n",
              "</div>"
            ],
            "text/plain": [
              "  Balance_Limit_V1  Gender  ...  PAID_AMT_DEC  NEXT_MONTH_DEFAULT\n",
              "0               1M       1  ...        538165                   0\n",
              "1               1M       2  ...         33666                   0\n",
              "2             100K       2  ...             0                   1\n",
              "3             200K       2  ...          3918                   1\n",
              "4               1M       2  ...         17325                   0\n",
              "5             400K       2  ...         12705                   0\n",
              "6             100K       1  ...             0                   0\n",
              "7             100K       2  ...          2523                   1\n",
              "8             500K       1  ...         11550                   0\n",
              "9               1M       1  ...          7311                   0\n",
              "\n",
              "[10 rows x 24 columns]"
            ]
          },
          "metadata": {
            "tags": []
          },
          "execution_count": 85
        }
      ]
    },
    {
      "cell_type": "code",
      "metadata": {
        "id": "8gI3qHP8SDl9",
        "colab_type": "code",
        "outputId": "c27b0a6e-02db-40d6-db2b-3b5f722b3c23",
        "colab": {
          "base_uri": "https://localhost:8080/",
          "height": 379
        }
      },
      "source": [
        "test_data_.head(10)"
      ],
      "execution_count": 86,
      "outputs": [
        {
          "output_type": "execute_result",
          "data": {
            "text/html": [
              "<div>\n",
              "<style scoped>\n",
              "    .dataframe tbody tr th:only-of-type {\n",
              "        vertical-align: middle;\n",
              "    }\n",
              "\n",
              "    .dataframe tbody tr th {\n",
              "        vertical-align: top;\n",
              "    }\n",
              "\n",
              "    .dataframe thead th {\n",
              "        text-align: right;\n",
              "    }\n",
              "</style>\n",
              "<table border=\"1\" class=\"dataframe\">\n",
              "  <thead>\n",
              "    <tr style=\"text-align: right;\">\n",
              "      <th></th>\n",
              "      <th>Balance_Limit_V1</th>\n",
              "      <th>Gender</th>\n",
              "      <th>EDUCATION_STATUS</th>\n",
              "      <th>MARITAL_STATUS</th>\n",
              "      <th>AGE</th>\n",
              "      <th>PAY_JULY</th>\n",
              "      <th>PAY_AUG</th>\n",
              "      <th>PAY_SEP</th>\n",
              "      <th>PAY_OCT</th>\n",
              "      <th>PAY_NOV</th>\n",
              "      <th>PAY_DEC</th>\n",
              "      <th>DUE_AMT_JULY</th>\n",
              "      <th>DUE_AMT_AUG</th>\n",
              "      <th>DUE_AMT_SEP</th>\n",
              "      <th>DUE_AMT_OCT</th>\n",
              "      <th>DUE_AMT_NOV</th>\n",
              "      <th>DUE_AMT_DEC</th>\n",
              "      <th>PAID_AMT_JULY</th>\n",
              "      <th>PAID_AMT_AUG</th>\n",
              "      <th>PAID_AMT_SEP</th>\n",
              "      <th>PAID_AMT_OCT</th>\n",
              "      <th>PAID_AMT_NOV</th>\n",
              "      <th>PAID_AMT_DEC</th>\n",
              "    </tr>\n",
              "  </thead>\n",
              "  <tbody>\n",
              "    <tr>\n",
              "      <th>0</th>\n",
              "      <td>500K</td>\n",
              "      <td>1</td>\n",
              "      <td>1</td>\n",
              "      <td>2</td>\n",
              "      <td>1</td>\n",
              "      <td>0</td>\n",
              "      <td>0</td>\n",
              "      <td>0</td>\n",
              "      <td>0</td>\n",
              "      <td>0</td>\n",
              "      <td>0</td>\n",
              "      <td>194188</td>\n",
              "      <td>198510</td>\n",
              "      <td>128316</td>\n",
              "      <td>311201</td>\n",
              "      <td>351790</td>\n",
              "      <td>352206</td>\n",
              "      <td>13710</td>\n",
              "      <td>12816</td>\n",
              "      <td>195701</td>\n",
              "      <td>53246</td>\n",
              "      <td>17256</td>\n",
              "      <td>12991</td>\n",
              "    </tr>\n",
              "    <tr>\n",
              "      <th>1</th>\n",
              "      <td>200K</td>\n",
              "      <td>2</td>\n",
              "      <td>1</td>\n",
              "      <td>2</td>\n",
              "      <td>1</td>\n",
              "      <td>0</td>\n",
              "      <td>0</td>\n",
              "      <td>0</td>\n",
              "      <td>0</td>\n",
              "      <td>0</td>\n",
              "      <td>0</td>\n",
              "      <td>87115</td>\n",
              "      <td>89427</td>\n",
              "      <td>91823</td>\n",
              "      <td>94181</td>\n",
              "      <td>97221</td>\n",
              "      <td>100275</td>\n",
              "      <td>3756</td>\n",
              "      <td>3842</td>\n",
              "      <td>3890</td>\n",
              "      <td>4620</td>\n",
              "      <td>4620</td>\n",
              "      <td>4620</td>\n",
              "    </tr>\n",
              "    <tr>\n",
              "      <th>2</th>\n",
              "      <td>400K</td>\n",
              "      <td>1</td>\n",
              "      <td>1</td>\n",
              "      <td>1</td>\n",
              "      <td>2</td>\n",
              "      <td>-1</td>\n",
              "      <td>-1</td>\n",
              "      <td>2</td>\n",
              "      <td>0</td>\n",
              "      <td>0</td>\n",
              "      <td>-1</td>\n",
              "      <td>2693</td>\n",
              "      <td>9573</td>\n",
              "      <td>8984</td>\n",
              "      <td>11294</td>\n",
              "      <td>9561</td>\n",
              "      <td>993</td>\n",
              "      <td>6930</td>\n",
              "      <td>0</td>\n",
              "      <td>2310</td>\n",
              "      <td>0</td>\n",
              "      <td>2310</td>\n",
              "      <td>40060</td>\n",
              "    </tr>\n",
              "    <tr>\n",
              "      <th>3</th>\n",
              "      <td>1.5M</td>\n",
              "      <td>1</td>\n",
              "      <td>2</td>\n",
              "      <td>2</td>\n",
              "      <td>1</td>\n",
              "      <td>1</td>\n",
              "      <td>-1</td>\n",
              "      <td>-1</td>\n",
              "      <td>-2</td>\n",
              "      <td>-2</td>\n",
              "      <td>-2</td>\n",
              "      <td>0</td>\n",
              "      <td>5775</td>\n",
              "      <td>5775</td>\n",
              "      <td>0</td>\n",
              "      <td>0</td>\n",
              "      <td>0</td>\n",
              "      <td>5775</td>\n",
              "      <td>5775</td>\n",
              "      <td>0</td>\n",
              "      <td>0</td>\n",
              "      <td>0</td>\n",
              "      <td>0</td>\n",
              "    </tr>\n",
              "    <tr>\n",
              "      <th>4</th>\n",
              "      <td>100K</td>\n",
              "      <td>2</td>\n",
              "      <td>3</td>\n",
              "      <td>1</td>\n",
              "      <td>2</td>\n",
              "      <td>0</td>\n",
              "      <td>0</td>\n",
              "      <td>-2</td>\n",
              "      <td>-2</td>\n",
              "      <td>-2</td>\n",
              "      <td>-2</td>\n",
              "      <td>85257</td>\n",
              "      <td>0</td>\n",
              "      <td>0</td>\n",
              "      <td>0</td>\n",
              "      <td>0</td>\n",
              "      <td>0</td>\n",
              "      <td>0</td>\n",
              "      <td>0</td>\n",
              "      <td>0</td>\n",
              "      <td>0</td>\n",
              "      <td>0</td>\n",
              "      <td>0</td>\n",
              "    </tr>\n",
              "    <tr>\n",
              "      <th>5</th>\n",
              "      <td>100K</td>\n",
              "      <td>2</td>\n",
              "      <td>1</td>\n",
              "      <td>1</td>\n",
              "      <td>2</td>\n",
              "      <td>0</td>\n",
              "      <td>0</td>\n",
              "      <td>0</td>\n",
              "      <td>0</td>\n",
              "      <td>0</td>\n",
              "      <td>0</td>\n",
              "      <td>45040</td>\n",
              "      <td>30159</td>\n",
              "      <td>32553</td>\n",
              "      <td>24195</td>\n",
              "      <td>25867</td>\n",
              "      <td>28177</td>\n",
              "      <td>4620</td>\n",
              "      <td>2897</td>\n",
              "      <td>2310</td>\n",
              "      <td>1672</td>\n",
              "      <td>2310</td>\n",
              "      <td>2310</td>\n",
              "    </tr>\n",
              "    <tr>\n",
              "      <th>6</th>\n",
              "      <td>200K</td>\n",
              "      <td>2</td>\n",
              "      <td>3</td>\n",
              "      <td>1</td>\n",
              "      <td>2</td>\n",
              "      <td>2</td>\n",
              "      <td>2</td>\n",
              "      <td>2</td>\n",
              "      <td>2</td>\n",
              "      <td>2</td>\n",
              "      <td>2</td>\n",
              "      <td>125962</td>\n",
              "      <td>122760</td>\n",
              "      <td>124236</td>\n",
              "      <td>117768</td>\n",
              "      <td>119519</td>\n",
              "      <td>113333</td>\n",
              "      <td>4158</td>\n",
              "      <td>9009</td>\n",
              "      <td>693</td>\n",
              "      <td>7854</td>\n",
              "      <td>0</td>\n",
              "      <td>9240</td>\n",
              "    </tr>\n",
              "    <tr>\n",
              "      <th>7</th>\n",
              "      <td>500K</td>\n",
              "      <td>1</td>\n",
              "      <td>1</td>\n",
              "      <td>2</td>\n",
              "      <td>1</td>\n",
              "      <td>0</td>\n",
              "      <td>0</td>\n",
              "      <td>0</td>\n",
              "      <td>-2</td>\n",
              "      <td>-2</td>\n",
              "      <td>-2</td>\n",
              "      <td>22419</td>\n",
              "      <td>5013</td>\n",
              "      <td>0</td>\n",
              "      <td>0</td>\n",
              "      <td>0</td>\n",
              "      <td>0</td>\n",
              "      <td>2310</td>\n",
              "      <td>0</td>\n",
              "      <td>0</td>\n",
              "      <td>0</td>\n",
              "      <td>0</td>\n",
              "      <td>0</td>\n",
              "    </tr>\n",
              "    <tr>\n",
              "      <th>8</th>\n",
              "      <td>500K</td>\n",
              "      <td>1</td>\n",
              "      <td>1</td>\n",
              "      <td>1</td>\n",
              "      <td>2</td>\n",
              "      <td>-1</td>\n",
              "      <td>-1</td>\n",
              "      <td>-1</td>\n",
              "      <td>-1</td>\n",
              "      <td>-1</td>\n",
              "      <td>-1</td>\n",
              "      <td>6893</td>\n",
              "      <td>356</td>\n",
              "      <td>4876</td>\n",
              "      <td>2372</td>\n",
              "      <td>1377</td>\n",
              "      <td>1361</td>\n",
              "      <td>356</td>\n",
              "      <td>4886</td>\n",
              "      <td>2372</td>\n",
              "      <td>1377</td>\n",
              "      <td>1361</td>\n",
              "      <td>2576</td>\n",
              "    </tr>\n",
              "    <tr>\n",
              "      <th>9</th>\n",
              "      <td>400K</td>\n",
              "      <td>2</td>\n",
              "      <td>1</td>\n",
              "      <td>2</td>\n",
              "      <td>3</td>\n",
              "      <td>0</td>\n",
              "      <td>0</td>\n",
              "      <td>0</td>\n",
              "      <td>0</td>\n",
              "      <td>0</td>\n",
              "      <td>0</td>\n",
              "      <td>298103</td>\n",
              "      <td>145759</td>\n",
              "      <td>133287</td>\n",
              "      <td>123141</td>\n",
              "      <td>112548</td>\n",
              "      <td>112800</td>\n",
              "      <td>6930</td>\n",
              "      <td>4851</td>\n",
              "      <td>5775</td>\n",
              "      <td>4851</td>\n",
              "      <td>4851</td>\n",
              "      <td>3465</td>\n",
              "    </tr>\n",
              "  </tbody>\n",
              "</table>\n",
              "</div>"
            ],
            "text/plain": [
              "  Balance_Limit_V1  Gender  ...  PAID_AMT_NOV  PAID_AMT_DEC\n",
              "0             500K       1  ...         17256         12991\n",
              "1             200K       2  ...          4620          4620\n",
              "2             400K       1  ...          2310         40060\n",
              "3             1.5M       1  ...             0             0\n",
              "4             100K       2  ...             0             0\n",
              "5             100K       2  ...          2310          2310\n",
              "6             200K       2  ...             0          9240\n",
              "7             500K       1  ...             0             0\n",
              "8             500K       1  ...          1361          2576\n",
              "9             400K       2  ...          4851          3465\n",
              "\n",
              "[10 rows x 23 columns]"
            ]
          },
          "metadata": {
            "tags": []
          },
          "execution_count": 86
        }
      ]
    },
    {
      "cell_type": "code",
      "metadata": {
        "id": "rP9J2PTTYJIs",
        "colab_type": "code",
        "colab": {}
      },
      "source": [
        "def normalize_Balance_Limit_V1( balance ):\n",
        "  #function to format balance limit values\n",
        "    if balance[-1] == \"K\":\n",
        "        balance = eval(balance[:-1])*1000\n",
        "    else:\n",
        "        balance = eval(balance[:-1])*1000000\n",
        "    return balance"
      ],
      "execution_count": 0,
      "outputs": []
    },
    {
      "cell_type": "code",
      "metadata": {
        "id": "O2Fu9hGVaWsI",
        "colab_type": "code",
        "colab": {}
      },
      "source": [
        "df[\"Balance_Limit_V1\"] = df[\"Balance_Limit_V1\"].apply(lambda balance: normalize_Balance_Limit_V1( balance ))\n",
        "test_data_[\"Balance_Limit_V1\"] = test_data_[\"Balance_Limit_V1\"].apply(lambda balance: normalize_Balance_Limit_V1( balance ))"
      ],
      "execution_count": 0,
      "outputs": []
    },
    {
      "cell_type": "markdown",
      "metadata": {
        "id": "NXS28Z_iJbHW",
        "colab_type": "text"
      },
      "source": [
        "**General Dataset Analysis**\n"
      ]
    },
    {
      "cell_type": "code",
      "metadata": {
        "id": "yRmjrmDPJhUy",
        "colab_type": "code",
        "outputId": "a1e54a17-0cf3-4e1f-f890-bbf87ec64c74",
        "colab": {
          "base_uri": "https://localhost:8080/",
          "height": 316
        }
      },
      "source": [
        "print(\"No of possitive samples : \", len(df.loc[df[\"NEXT_MONTH_DEFAULT\"]==1]))\n",
        "print(\"No of negative samples : \", len(df.loc[df[\"NEXT_MONTH_DEFAULT\"]==0]))\n",
        "target = df.NEXT_MONTH_DEFAULT.value_counts()\n",
        "sns.barplot(target.index, target)\n",
        "plt.gca().set_ylabel('samples') #gca - gets current axis of current figure"
      ],
      "execution_count": 165,
      "outputs": [
        {
          "output_type": "stream",
          "text": [
            "No of possitive samples :  5330\n",
            "No of negative samples :  18670\n"
          ],
          "name": "stdout"
        },
        {
          "output_type": "execute_result",
          "data": {
            "text/plain": [
              "Text(0, 0.5, 'samples')"
            ]
          },
          "metadata": {
            "tags": []
          },
          "execution_count": 165
        },
        {
          "output_type": "display_data",
          "data": {
            "image/png": "[encoded data removed]",
            "text/plain": [
              "<Figure size 432x288 with 1 Axes>"
            ]
          },
          "metadata": {
            "tags": []
          }
        }
      ]
    },
    {
      "cell_type": "markdown",
      "metadata": {
        "id": "HskrB8FcjTGs",
        "colab_type": "text"
      },
      "source": [
        "**Selecting features based on correlation.** \n",
        "\n",
        "Generating the correlation matrix"
      ]
    },
    {
      "cell_type": "code",
      "metadata": {
        "id": "U3fJW_5KpOpc",
        "colab_type": "code",
        "colab": {}
      },
      "source": [
        "def correlation_heatmap(data):\n",
        "    correlations = data.corr()\n",
        "\n",
        "    fig, ax = plt.subplots(figsize=(10,10))\n",
        "    sns.heatmap(correlations, vmax=1.0, center=0, fmt='.2f',\n",
        "                square=True, linewidths=.5, annot=False, cbar_kws={\"shrink\": 1.0})\n",
        "    plt.show()\n",
        "    return correlations\n"
      ],
      "execution_count": 0,
      "outputs": []
    },
    {
      "cell_type": "code",
      "metadata": {
        "id": "0NmKvu4kRJUg",
        "colab_type": "code",
        "outputId": "1380ef43-c1b1-4a0e-e32d-ff89323c89f3",
        "colab": {
          "base_uri": "https://localhost:8080/",
          "height": 656
        }
      },
      "source": [
        "correlations = correlation_heatmap(df)"
      ],
      "execution_count": 91,
      "outputs": [
        {
          "output_type": "display_data",
          "data": {
            "image/png": "[encoded data removed]",
            "text/plain": [
              "<Figure size 720x720 with 2 Axes>"
            ]
          },
          "metadata": {
            "tags": []
          }
        }
      ]
    },
    {
      "cell_type": "markdown",
      "metadata": {
        "id": "9JoR8q3CTCjP",
        "colab_type": "text"
      },
      "source": [
        "*Removing features which has high co-relation (0.9) with other features*"
      ]
    },
    {
      "cell_type": "code",
      "metadata": {
        "id": "Hy8NkNhjhw8H",
        "colab_type": "code",
        "colab": {}
      },
      "source": [
        "columns = np.full((correlations.shape[0],), True, dtype=bool)\n",
        "for i in range(correlations.shape[0]):\n",
        "    for j in range(i+1, correlations.shape[0]):\n",
        "        if correlations.iloc[i,j] >= 0.9:\n",
        "            if columns[j]:\n",
        "                columns[j] = False\n",
        "selected_columns = df.columns[columns]\n",
        "data = data[selected_columns]\n",
        "test_data_fe = test_data_[selected_columns[:-1]]\n"
      ],
      "execution_count": 0,
      "outputs": []
    },
    {
      "cell_type": "code",
      "metadata": {
        "id": "4mdD3oK0TEN_",
        "colab_type": "code",
        "outputId": "9eddff0f-b349-4e52-dc15-9ce7db0fc3aa",
        "colab": {
          "base_uri": "https://localhost:8080/",
          "height": 102
        }
      },
      "source": [
        "test_data_fe.columns"
      ],
      "execution_count": 93,
      "outputs": [
        {
          "output_type": "execute_result",
          "data": {
            "text/plain": [
              "Index(['Balance_Limit_V1', 'Gender', 'EDUCATION_STATUS', 'MARITAL_STATUS',\n",
              "       'AGE', 'PAY_JULY', 'PAY_AUG', 'PAY_SEP', 'PAY_OCT', 'PAY_NOV',\n",
              "       'PAY_DEC', 'DUE_AMT_JULY', 'PAID_AMT_JULY', 'PAID_AMT_AUG',\n",
              "       'PAID_AMT_SEP', 'PAID_AMT_OCT', 'PAID_AMT_NOV', 'PAID_AMT_DEC'],\n",
              "      dtype='object')"
            ]
          },
          "metadata": {
            "tags": []
          },
          "execution_count": 93
        }
      ]
    },
    {
      "cell_type": "code",
      "metadata": {
        "id": "Ik36eD8ybk-N",
        "colab_type": "code",
        "colab": {}
      },
      "source": [
        "#training data\n",
        "x1 = data.iloc[:,:-1]\n",
        "x1_norm = data.iloc[:,:-1]\n",
        "y1 = data[\"NEXT_MONTH_DEFAULT\"]\n",
        "X_train_ori = df.iloc[:, :-1]\n",
        "\n",
        "#test_data\n",
        "x1_test = test_data_fe\n",
        "x1_test_norm  = test_data_fe\n",
        "X_test_ori = test_data_"
      ],
      "execution_count": 0,
      "outputs": []
    },
    {
      "cell_type": "markdown",
      "metadata": {
        "id": "FhokSej8iUBu",
        "colab_type": "text"
      },
      "source": [
        "**Standardising features to have a mean = 0 and SD = 1**\n"
      ]
    },
    {
      "cell_type": "code",
      "metadata": {
        "id": "DznJTTT2Z6cD",
        "colab_type": "code",
        "colab": {}
      },
      "source": [
        "standardScaler = preprocessing.StandardScaler()\n",
        "for feature in x1_norm.columns:\n",
        "  x1_norm[feature]= standardScaler.fit_transform(x1_norm[feature].values.reshape(-1,1))\n",
        "  x1_test_norm[feature]= standardScaler.fit_transform(x1_test_norm[feature].values.reshape(-1,1))"
      ],
      "execution_count": 0,
      "outputs": []
    },
    {
      "cell_type": "markdown",
      "metadata": {
        "id": "QGE3jYIxPojW",
        "colab_type": "text"
      },
      "source": [
        "**Dividing the dataset into train and test sets.**"
      ]
    },
    {
      "cell_type": "code",
      "metadata": {
        "id": "VT3CXE4deSW_",
        "colab_type": "code",
        "colab": {}
      },
      "source": [
        "X_train, X_test, y_train, y_test = train_test_split(\n",
        "...     x1, y1, test_size=0.2, random_state=42)"
      ],
      "execution_count": 0,
      "outputs": []
    },
    {
      "cell_type": "code",
      "metadata": {
        "id": "cEMo1_iaUjE3",
        "colab_type": "code",
        "colab": {}
      },
      "source": [
        "X_train_std, X_test_std, y_train, y_test = train_test_split(\n",
        "...     x1_norm, y1, test_size=0.2, random_state=42) #standardised training data"
      ],
      "execution_count": 0,
      "outputs": []
    },
    {
      "cell_type": "code",
      "metadata": {
        "id": "cYveAN0Q-cAO",
        "colab_type": "code",
        "colab": {}
      },
      "source": [
        "X_train_ori_, X_test_ori_, y_train_ori_, y_test_ori_ = train_test_split(\n",
        "...     X_train_ori, y1, test_size=0.2, random_state=42)"
      ],
      "execution_count": 0,
      "outputs": []
    },
    {
      "cell_type": "code",
      "metadata": {
        "id": "L-MJx7WYWwVQ",
        "colab_type": "code",
        "outputId": "07204700-c509-45c0-cd74-2d3c16f721a0",
        "colab": {
          "base_uri": "https://localhost:8080/",
          "height": 153
        }
      },
      "source": [
        "clf = RandomForestClassifier(random_state=41)\n",
        "clf.fit(X_train,y_train)"
      ],
      "execution_count": 98,
      "outputs": [
        {
          "output_type": "execute_result",
          "data": {
            "text/plain": [
              "RandomForestClassifier(bootstrap=True, ccp_alpha=0.0, class_weight=None,\n",
              "                       criterion='gini', max_depth=None, max_features='auto',\n",
              "                       max_leaf_nodes=None, max_samples=None,\n",
              "                       min_impurity_decrease=0.0, min_impurity_split=None,\n",
              "                       min_samples_leaf=1, min_samples_split=2,\n",
              "                       min_weight_fraction_leaf=0.0, n_estimators=100,\n",
              "                       n_jobs=None, oob_score=False, random_state=41, verbose=0,\n",
              "                       warm_start=False)"
            ]
          },
          "metadata": {
            "tags": []
          },
          "execution_count": 98
        }
      ]
    },
    {
      "cell_type": "code",
      "metadata": {
        "colab_type": "code",
        "id": "FbauEjFlBSU7",
        "colab": {}
      },
      "source": [
        "y_pred = clf.predict(X_test)\n",
        "score = clf.score(X_test,y_test)\n",
        "report = classification_report(y_test, y_pred)\n",
        "print(\"Score : %{} using {}\".format(score*100, 'RandomForestClassifier'))\n",
        "print(report)"
      ],
      "execution_count": 0,
      "outputs": []
    },
    {
      "cell_type": "code",
      "metadata": {
        "id": "ygDFZZZeXrIW",
        "colab_type": "code",
        "colab": {}
      },
      "source": [
        "Y_test_pred = clf2.predict(x1_test)"
      ],
      "execution_count": 0,
      "outputs": []
    },
    {
      "cell_type": "code",
      "metadata": {
        "id": "jObOgXqoYCV_",
        "colab_type": "code",
        "colab": {}
      },
      "source": [
        "output = pd.DataFrame( data = {'Client_ID': test_data['Client_ID'], 'NEXT_MONTH_DEFAULT': Y_test_pred})\n",
        "output.to_csv(\"/content/Submission1.csv\", index = False, quoting=3)\n",
        "    "
      ],
      "execution_count": 0,
      "outputs": []
    },
    {
      "cell_type": "markdown",
      "metadata": {
        "id": "v6fAHbeNBURy",
        "colab_type": "text"
      },
      "source": [
        "**Testing Out Balanced Bagging Classifier with Random forest and PCA**"
      ]
    },
    {
      "cell_type": "markdown",
      "metadata": {
        "id": "QqHUL-yeB69K",
        "colab_type": "text"
      },
      "source": [
        "**Utils**"
      ]
    },
    {
      "cell_type": "code",
      "metadata": {
        "id": "TaCaZ9yKY1Kn",
        "colab_type": "code",
        "colab": {}
      },
      "source": [
        "def get_feature_importance(clsf, ftrs):\n",
        "    imp = clsf.feature_importances_.tolist()\n",
        "    feat = ftrs\n",
        "    result = pd.DataFrame({'feature':feat,'score':imp})\n",
        "    result = result.sort_values(by=['score'],ascending=False)\n",
        "    return result"
      ],
      "execution_count": 0,
      "outputs": []
    },
    {
      "cell_type": "code",
      "metadata": {
        "id": "JdaGGLEfoXrT",
        "colab_type": "code",
        "colab": {}
      },
      "source": [
        "def classification( classifier , X_train, X_test, Y_train, Y_test):\n",
        "  classifier.fit(X_train, Y_train)\n",
        "  y_pred = classifier.predict(X_test)\n",
        "  score  = classifier.score(X_test,Y_test)\n",
        "  report = classification_report(Y_test, y_pred)\n",
        "  cm     = confusion_matrix(Y_test, y_pred)\n",
        "  return score, report, cm"
      ],
      "execution_count": 0,
      "outputs": []
    },
    {
      "cell_type": "markdown",
      "metadata": {
        "id": "tU3I_ure0r0R",
        "colab_type": "text"
      },
      "source": [
        "**RandomizedSearchCV for optimal Parameters**"
      ]
    },
    {
      "cell_type": "code",
      "metadata": {
        "id": "njJm0cKM0HW2",
        "colab_type": "code",
        "colab": {}
      },
      "source": [
        "# Number of trees in random forest\n",
        "n_estimators = [int(x) for x in np.linspace(start = 10, stop = 200, num = 10)]\n",
        "# Number of features to consider at every split\n",
        "max_features = ['auto', 'sqrt', 'log2']\n",
        "# Maximum number of levels in tree\n",
        "max_depth = [int(x) for x in np.linspace(2, 30, num = 15)]\n",
        "max_depth.append(None)\n",
        "# Minimum number of samples required at each leaf node\n",
        "min_samples_leaf = [int(x) for x in np.linspace(2, 50, num = 25)]\n",
        "# Minimum number of samples to split an internal node\n",
        "min_samples_split = [int(x) for x in np.linspace(2, 100, num = 50)]\n",
        "skf = StratifiedKFold(n_splits = 5, shuffle=True, random_state=268)\n",
        "# Create the random grid\n",
        "random_grid = {'n_estimators': n_estimators,\n",
        "               'max_features': max_features,\n",
        "               'max_depth': max_depth,\n",
        "               'min_samples_leaf': min_samples_leaf,\n",
        "               'min_samples_split' : min_samples_split,\n",
        "               'n_jobs' : [-1],\n",
        "               'random_state' : [42]}"
      ],
      "execution_count": 0,
      "outputs": []
    },
    {
      "cell_type": "code",
      "metadata": {
        "colab_type": "code",
        "id": "M6B94TAsCrWL",
        "colab": {}
      },
      "source": [
        "grid_forest = RandomizedSearchCV(estimator = RandomForestClassifier(), param_distributions = random_grid, \n",
        "                               n_iter = 50, cv = skf, random_state=42, n_jobs = -1,\n",
        "                                scoring = 'accuracy')"
      ],
      "execution_count": 0,
      "outputs": []
    },
    {
      "cell_type": "code",
      "metadata": {
        "id": "P770c5fX1k3_",
        "colab_type": "code",
        "colab": {}
      },
      "source": [
        "grid_forest.fit(X_train, y_train)\n",
        "\n",
        "#let's see the best estimator\n",
        "best_forest = grid_forest.best_estimator_\n",
        "print(best_forest)\n",
        "print(\"_\"*40)\n",
        "#with its score\n",
        "print(\"Cross-validated best score {}%\".format(round(grid_forest.best_score_ * 100,3)))\n",
        "#score on test\n",
        "predictions = best_forest.predict(X_test)"
      ],
      "execution_count": 0,
      "outputs": []
    },
    {
      "cell_type": "markdown",
      "metadata": {
        "id": "UFvy0x1-CkKL",
        "colab_type": "text"
      },
      "source": [
        "Different Classifiers"
      ]
    },
    {
      "cell_type": "code",
      "metadata": {
        "id": "m1qmGrpM2EW9",
        "colab_type": "code",
        "colab": {}
      },
      "source": [
        "RF = RandomForestClassifier(bootstrap=True, ccp_alpha=0.0, class_weight=None,\n",
        "                       criterion='gini', max_depth=6, max_features='log2',\n",
        "                       max_leaf_nodes=None, max_samples=None,\n",
        "                       min_impurity_decrease=0.0, min_impurity_split=None,\n",
        "                       min_samples_leaf=14, min_samples_split=72,\n",
        "                       min_weight_fraction_leaf=0.0, n_estimators=115,\n",
        "                       n_jobs=-1, oob_score=False, random_state=42, verbose=0,\n",
        "                       warm_start=False) #from RandomizedSearch"
      ],
      "execution_count": 0,
      "outputs": []
    },
    {
      "cell_type": "code",
      "metadata": {
        "id": "vNXmSlcDiE3-",
        "colab_type": "code",
        "colab": {}
      },
      "source": [
        "XGB  = xgb.XGBClassifier(base_score=0.5, booster='gbtree', colsample_bylevel=1,\n",
        "       colsample_bytree=1, gamma=0, learning_rate=0.05, max_delta_step=0,\n",
        "       max_depth=3, min_child_weight=1, missing=None, n_estimators=381,\n",
        "       n_jobs=-1, nthread=None, objective='binary:logistic',\n",
        "       random_state=0, reg_alpha=0, reg_lambda=1, scale_pos_weight=1,\n",
        "       seed=None, silent=True, subsample=1)\n"
      ],
      "execution_count": 0,
      "outputs": []
    },
    {
      "cell_type": "code",
      "metadata": {
        "id": "iqutmdeLliCa",
        "colab_type": "code",
        "colab": {}
      },
      "source": [
        "BBC = BalancedBaggingClassifier( base_estimator = RF, random_state=0 )"
      ],
      "execution_count": 0,
      "outputs": []
    },
    {
      "cell_type": "code",
      "metadata": {
        "colab_type": "code",
        "id": "A_nu3X2oC1RT",
        "colab": {}
      },
      "source": [
        "score , report, cm = classification( BBC , X_train, X_test, y_train, y_test)"
      ],
      "execution_count": 0,
      "outputs": []
    },
    {
      "cell_type": "code",
      "metadata": {
        "id": "-CUxNdtoDRBe",
        "colab_type": "code",
        "colab": {
          "base_uri": "https://localhost:8080/",
          "height": 170
        },
        "outputId": "ea4a60c1-e4c4-4f62-aafc-93e7b0e9600c"
      },
      "source": [
        "print(report)"
      ],
      "execution_count": 193,
      "outputs": [
        {
          "output_type": "stream",
          "text": [
            "              precision    recall  f1-score   support\n",
            "\n",
            "           0       0.89      0.82      0.85      3745\n",
            "           1       0.50      0.64      0.56      1055\n",
            "\n",
            "    accuracy                           0.78      4800\n",
            "   macro avg       0.70      0.73      0.71      4800\n",
            "weighted avg       0.80      0.78      0.79      4800\n",
            "\n"
          ],
          "name": "stdout"
        }
      ]
    },
    {
      "cell_type": "code",
      "metadata": {
        "id": "C8WELLi9DgRR",
        "colab_type": "code",
        "colab": {}
      },
      "source": [
        ""
      ],
      "execution_count": 0,
      "outputs": []
    }
  ]
}